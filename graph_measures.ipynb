{
 "cells": [
  {
   "cell_type": "code",
   "execution_count": 2,
   "id": "ff4b898d-f0bd-4e5a-9650-456c2c879583",
   "metadata": {},
   "outputs": [
    {
     "name": "stdout",
     "output_type": "stream",
     "text": [
      "/Users/jan/Documents/Studia/Magisterka/analysis\n"
     ]
    }
   ],
   "source": [
    "!pwd"
   ]
  },
  {
   "cell_type": "markdown",
   "id": "aeb78731-7565-4496-a3be-def9c28e551e",
   "metadata": {},
   "source": [
    "# Graph measures for every subject and condition"
   ]
  },
  {
   "cell_type": "code",
   "execution_count": 536,
   "id": "0a1ef727-eeac-4c30-ad59-e58912126b49",
   "metadata": {},
   "outputs": [],
   "source": [
    "import networkx\n",
    "import bct\n",
    "import numpy as np\n",
    "import sys\n",
    "import pandas as pd\n",
    "import matplotlib.pyplot as plt\n",
    "\n",
    "from nilearn import datasets\n",
    "from nilearn import maskers\n",
    "from nilearn import image\n",
    "from nilearn import input_data\n",
    "from nilearn import plotting\n",
    "from nilearn.connectome import ConnectivityMeasure\n",
    "from nilearn.maskers import NiftiLabelsMasker\n",
    "import seaborn as sns\n",
    "import scipy\n",
    "import statsmodels\n",
    "\n",
    "\n",
    "sys.path.append(\"..\")\n",
    "sys.path.append(\"/Users/jan/Documents/Studia/Magisterka/analysis\")"
   ]
  },
  {
   "cell_type": "code",
   "execution_count": 274,
   "id": "f40a13e8-0892-4d03-9811-64d1ab43ac36",
   "metadata": {},
   "outputs": [],
   "source": [
    "one_back_corr_thr = np.load('correlation_matrices/one_back_corr_thr.npy')\n",
    "two_back_corr_thr = np.load('correlation_matrices/two_back_corr_thr.npy')\n",
    "rest_corr_thr = np.load('correlation_matrices/rest_corr_thr.npy')"
   ]
  },
  {
   "cell_type": "code",
   "execution_count": 170,
   "id": "f323029b-7a93-463d-8749-4a0d29b9702f",
   "metadata": {},
   "outputs": [],
   "source": [
    "one_back_corr_bin = np.load('correlation_matrices/one_back_corr_binarized.npy')\n",
    "two_back_corr_bin = np.load('correlation_matrices/two_back_corr_binarized.npy')\n",
    "rest_corr_bin = np.load('correlation_matrices/rest_corr_binarized.npy')"
   ]
  },
  {
   "cell_type": "code",
   "execution_count": 98,
   "id": "e02781e8-8237-4148-a376-ec24d2d50aff",
   "metadata": {},
   "outputs": [],
   "source": [
    "one_back_corr_bin_50 = np.load('correlation_matrices/one_back_corr_binarized_50.npy')\n",
    "two_back_corr_bin_50 = np.load('correlation_matrices/two_back_corr_binarized_50.npy')\n",
    "rest_corr_bin_50 = np.load('correlation_matrices/rest_corr_binarized_50.npy')"
   ]
  },
  {
   "cell_type": "code",
   "execution_count": 410,
   "id": "2592ea23-794d-4ffa-afb3-13e67b6e855c",
   "metadata": {},
   "outputs": [],
   "source": [
    "regions = pd.read_csv('atlases/schaefer_2018/Schaefer2018_100Parcels_7Networks_order_FSLMNI152_2mm.Centroid_RAS.csv')"
   ]
  },
  {
   "cell_type": "code",
   "execution_count": 47,
   "id": "b0be8253-c918-445b-944e-7a03c1fc0973",
   "metadata": {},
   "outputs": [],
   "source": [
    "subs = np.load('subs_good.npy')"
   ]
  },
  {
   "cell_type": "code",
   "execution_count": 48,
   "id": "a4c3ffbd-3776-4b41-b78e-6e9d53d712c3",
   "metadata": {},
   "outputs": [
    {
     "data": {
      "text/plain": [
       "(40, 100, 100)"
      ]
     },
     "execution_count": 48,
     "metadata": {},
     "output_type": "execute_result"
    }
   ],
   "source": [
    "rest_corr_bin.shape"
   ]
  },
  {
   "cell_type": "code",
   "execution_count": 412,
   "id": "80e41579-d6da-40de-ad2f-961c900dc243",
   "metadata": {},
   "outputs": [],
   "source": [
    "dmn_rows = regions[regions['ROI Name'].str.contains('Default')]"
   ]
  },
  {
   "cell_type": "code",
   "execution_count": 811,
   "id": "0c14136c-9610-4fb1-a8e7-32c470f28861",
   "metadata": {},
   "outputs": [
    {
     "data": {
      "text/plain": [
       "[37,\n",
       " 38,\n",
       " 39,\n",
       " 40,\n",
       " 41,\n",
       " 42,\n",
       " 43,\n",
       " 44,\n",
       " 45,\n",
       " 46,\n",
       " 47,\n",
       " 48,\n",
       " 49,\n",
       " 89,\n",
       " 90,\n",
       " 91,\n",
       " 92,\n",
       " 93,\n",
       " 94,\n",
       " 95,\n",
       " 96,\n",
       " 97,\n",
       " 98,\n",
       " 99]"
      ]
     },
     "execution_count": 811,
     "metadata": {},
     "output_type": "execute_result"
    }
   ],
   "source": [
    "dmn_indexes = dmn_rows.index.to_list()\n",
    "dmn_indexes"
   ]
  },
  {
   "cell_type": "code",
   "execution_count": 490,
   "id": "4aabadba-a914-42b0-a1be-ceaeb75390a1",
   "metadata": {},
   "outputs": [],
   "source": [
    "dmn_rows_list = dmn_rows['ROI Name'].to_list()"
   ]
  },
  {
   "cell_type": "code",
   "execution_count": 501,
   "id": "e6d87fac-4eb0-49e7-9b52-5984fe4d1428",
   "metadata": {},
   "outputs": [],
   "source": [
    "for reg in range(24):\n",
    "    dmn_rows_list[reg] = dmn_rows_list[reg][10:]"
   ]
  },
  {
   "cell_type": "code",
   "execution_count": 502,
   "id": "6df75d5a-128f-4f92-bd56-80424292c4d3",
   "metadata": {},
   "outputs": [
    {
     "data": {
      "text/plain": [
       "['LH_Default_Temp_1',\n",
       " 'LH_Default_Temp_2',\n",
       " 'LH_Default_Par_1',\n",
       " 'LH_Default_Par_2',\n",
       " 'LH_Default_PFC_1',\n",
       " 'LH_Default_PFC_2',\n",
       " 'LH_Default_PFC_3',\n",
       " 'LH_Default_PFC_4',\n",
       " 'LH_Default_PFC_5',\n",
       " 'LH_Default_PFC_6',\n",
       " 'LH_Default_PFC_7',\n",
       " 'LH_Default_pCunPCC_1',\n",
       " 'LH_Default_pCunPCC_2',\n",
       " 'RH_Default_Par_1',\n",
       " 'RH_Default_Temp_1',\n",
       " 'RH_Default_Temp_2',\n",
       " 'RH_Default_Temp_3',\n",
       " 'RH_Default_PFCv_1',\n",
       " 'RH_Default_PFCv_2',\n",
       " 'RH_Default_PFCdPFCm_1',\n",
       " 'RH_Default_PFCdPFCm_2',\n",
       " 'RH_Default_PFCdPFCm_3',\n",
       " 'RH_Default_pCunPCC_1',\n",
       " 'RH_Default_pCunPCC_2']"
      ]
     },
     "execution_count": 502,
     "metadata": {},
     "output_type": "execute_result"
    }
   ],
   "source": [
    "dmn_rows_list"
   ]
  },
  {
   "cell_type": "markdown",
   "id": "77bf02b4-0e19-4669-bb95-3857e6643518",
   "metadata": {},
   "source": [
    "# Extracting DMN vectors"
   ]
  },
  {
   "cell_type": "code",
   "execution_count": 455,
   "id": "2136717e-2a60-432c-a348-d71a66dff9c2",
   "metadata": {},
   "outputs": [],
   "source": [
    "dmn_rest = np.empty((40, 24, 100))\n",
    "dmn_one = np.empty((40, 24, 100))\n",
    "dmn_two = np.empty((40, 24, 100))\n",
    "\n",
    "for sub in range(subs.shape[0]):\n",
    "    for idx in range(len(dmn_indexes)):\n",
    "            dmn_rest[sub][idx] = rest_corr_bin[sub][dmn_indexes[idx]]\n",
    "            dmn_one[sub][idx] = one_back_corr_bin[sub][dmn_indexes[idx]]\n",
    "            dmn_two[sub][idx] = two_back_corr_bin[sub][dmn_indexes[idx]]"
   ]
  },
  {
   "cell_type": "code",
   "execution_count": 457,
   "id": "2aa5cd11-9dd8-418e-9591-384e4c86e742",
   "metadata": {},
   "outputs": [
    {
     "data": {
      "text/plain": [
       "array([0., 0., 0., 0., 0., 0., 0., 0., 0., 0., 0., 0., 0., 0., 0., 0., 1.,\n",
       "       0., 0., 0., 0., 1., 1., 0., 0., 0., 0., 0., 0., 1., 0., 0., 0., 1.,\n",
       "       0., 0., 0., 0., 0., 0., 0., 0., 0., 0., 0., 0., 1., 0., 0., 0., 0.,\n",
       "       0., 0., 0., 0., 0., 0., 0., 0., 0., 0., 0., 0., 0., 0., 0., 0., 0.,\n",
       "       0., 0., 0., 0., 1., 0., 0., 0., 0., 0., 0., 0., 0., 0., 0., 0., 0.,\n",
       "       1., 0., 0., 0., 0., 0., 0., 0., 0., 0., 0., 0., 1., 0., 0.])"
      ]
     },
     "execution_count": 457,
     "metadata": {},
     "output_type": "execute_result"
    }
   ],
   "source": [
    "dmn_rest[0][10] #this is a connectivity vector of the first subject of the first of the dmn components"
   ]
  },
  {
   "cell_type": "code",
   "execution_count": 431,
   "id": "76792178-e944-4c45-8efc-8528f28852b0",
   "metadata": {},
   "outputs": [
    {
     "data": {
      "text/plain": [
       "24"
      ]
     },
     "execution_count": 431,
     "metadata": {},
     "output_type": "execute_result"
    }
   ],
   "source": [
    "dmn_rest.shape[1]"
   ]
  },
  {
   "cell_type": "markdown",
   "id": "de675f26-9f93-4b9a-818e-f06731878a2e",
   "metadata": {},
   "source": [
    "# Cosine distance"
   ]
  },
  {
   "cell_type": "code",
   "execution_count": 427,
   "id": "683f6cf9-c619-4721-a43a-52e5e0d01d73",
   "metadata": {},
   "outputs": [],
   "source": [
    "from scipy.spatial.distance import cosine"
   ]
  },
  {
   "cell_type": "code",
   "execution_count": 428,
   "id": "bf46fda0-1120-4a36-b9bc-47a01de5ec24",
   "metadata": {},
   "outputs": [],
   "source": [
    "def cos_dist_conds(rest, one_back, two_back):\n",
    "    cos_dist1 = cosine(rest, one_back)\n",
    "    cos_dist2 = cosine(rest, two_back)\n",
    "    cos_dist3 = cosine(one_back, two_back)\n",
    "\n",
    "    return cos_dist1, cos_dist2, cos_dist3\n",
    "    "
   ]
  },
  {
   "cell_type": "code",
   "execution_count": 558,
   "id": "733052b3-382d-44b1-b31c-cb0ad15551eb",
   "metadata": {},
   "outputs": [
    {
     "name": "stderr",
     "output_type": "stream",
     "text": [
      "/Library/Frameworks/Python.framework/Versions/3.11/lib/python3.11/site-packages/scipy/spatial/distance.py:636: RuntimeWarning: invalid value encountered in scalar divide\n",
      "  dist = 1.0 - uv / np.sqrt(uu * vv)\n"
     ]
    }
   ],
   "source": [
    "\n",
    "dmn_cos_rest_one = np.empty((40,24))\n",
    "dmn_cos_rest_two = np.empty((40,24))\n",
    "dmn_cos_one_two = np.empty((40,24))\n",
    "dmn_cos_rest_rest = np.empty((40,24))\n",
    "for sub in range(subs.shape[0]):\n",
    "    for comp in range(dmn_rest.shape[1]):\n",
    "        dmn_cos_rest_one[sub][comp] = cosine(dmn_rest[sub][comp], dmn_one[sub][comp])\n",
    "        dmn_cos_rest_two[sub][comp] = cosine(dmn_rest[sub][comp], dmn_two[sub][comp])\n",
    "        dmn_cos_one_two[sub][comp] = cosine(dmn_one[sub][comp], dmn_two[sub][comp])\n",
    "        dmn_cos_rest_rest[sub][comp] = cosine(dmn_rest[sub][comp], dmn_rest[sub][comp])"
   ]
  },
  {
   "cell_type": "code",
   "execution_count": 548,
   "id": "f477293d-fe81-4266-a487-4522da86eae3",
   "metadata": {},
   "outputs": [
    {
     "data": {
      "text/plain": [
       "array([0.75999232, 0.62203553, 0.45445527, 0.65184469, 0.43955146,\n",
       "       0.71416902, 0.75746437, 0.54773298, 0.69848866, 0.        ,\n",
       "       0.65315601, 0.        , 0.31359353, 0.47295372, 0.81742581,\n",
       "       0.82592234, 0.73888352, 0.55525041, 0.7763932 , 0.77777778,\n",
       "       0.42264973, 0.47376519, 0.42264973, 0.75746437, 1.        ,\n",
       "       0.21118936, 0.39313392, 0.61466268, 0.3649147 , 0.4023857 ,\n",
       "       0.36489265, 0.52859548, 0.42145809, 0.40655757, 0.75381702,\n",
       "       0.52565835, 0.        , 0.71132487, 0.50763404, 0.46547752])"
      ]
     },
     "execution_count": 548,
     "metadata": {},
     "output_type": "execute_result"
    }
   ],
   "source": [
    "dmn_cos_rest_one[:,0]"
   ]
  },
  {
   "cell_type": "markdown",
   "id": "f4f95761-4c2a-4a6b-9122-d40d0ec957b2",
   "metadata": {},
   "source": [
    "## Average cosine distances"
   ]
  },
  {
   "cell_type": "code",
   "execution_count": 555,
   "id": "d7f144c5-c2be-4c98-abdd-c570eb9ee96a",
   "metadata": {},
   "outputs": [
    {
     "data": {
      "text/plain": [
       "(0.4347199015391132, 0.6315461784008889)"
      ]
     },
     "execution_count": 555,
     "metadata": {},
     "output_type": "execute_result"
    }
   ],
   "source": [
    "scipy.stats.t.interval(0.99, loc=np.mean(dmn_cos_rest_one[:,0]), df=len(dmn_cos_rest_one[:,0])-1, scale=scipy.stats.sem(dmn_cos_rest_one[:,0]))"
   ]
  },
  {
   "cell_type": "code",
   "execution_count": null,
   "id": "dea6a203-ea83-435a-8023-165f0d132a47",
   "metadata": {},
   "outputs": [],
   "source": [
    "centralne twierdzenie graniczne - wyjaśnienie założenia, jak nie t test to wilkokson albo umann whitney, ewentualnie podzielić rest vs rest; mi edzy warunkami nie ma różnicy, czyli cos 0 - t test dla 1 sample , centralne twierdzenie graniczne "
   ]
  },
  {
   "cell_type": "code",
   "execution_count": 580,
   "id": "805cd580-242f-4ade-9631-edc104e28561",
   "metadata": {},
   "outputs": [
    {
     "data": {
      "text/plain": [
       "(40, 24)"
      ]
     },
     "execution_count": 580,
     "metadata": {},
     "output_type": "execute_result"
    }
   ],
   "source": [
    "dmn_cos_rest_one.shape"
   ]
  },
  {
   "cell_type": "code",
   "execution_count": 597,
   "id": "bb99158f-2f82-44e4-b923-a6d2c6ad0825",
   "metadata": {},
   "outputs": [],
   "source": [
    "t_dmn_rest_one = np.empty(24, dtype='object')\n",
    "t_dmn_rest_two = np.empty(24, dtype='object')\n",
    "t_dmn_one_two = np.empty(24, dtype='object')\n",
    "for reg in range(dmn_cos_rest_one.shape[1]):\n",
    "    t_dmn_rest_one[reg] = scipy.stats.ttest_1samp(dmn_cos_rest_one[:,reg], 0)\n",
    "    t_dmn_rest_two[reg] = scipy.stats.ttest_1samp(dmn_cos_rest_two[:,reg], 0)\n",
    "    t_dmn_one_two[reg] = scipy.stats.ttest_1samp(dmn_cos_one_two[:,reg], 0)"
   ]
  },
  {
   "cell_type": "code",
   "execution_count": 606,
   "id": "223afd30-6c36-4935-815c-4bb056220a62",
   "metadata": {},
   "outputs": [
    {
     "data": {
      "text/plain": [
       "16.148800609996098"
      ]
     },
     "execution_count": 606,
     "metadata": {},
     "output_type": "execute_result"
    }
   ],
   "source": [
    "t_dmn_one_two[1][0]"
   ]
  },
  {
   "cell_type": "code",
   "execution_count": 603,
   "id": "34d1cadb-80c3-44dd-8458-878c4228931a",
   "metadata": {},
   "outputs": [
    {
     "data": {
      "text/plain": [
       "TtestResult(statistic=20.97756067877674, pvalue=7.573911361278871e-23, df=39)"
      ]
     },
     "execution_count": 603,
     "metadata": {},
     "output_type": "execute_result"
    }
   ],
   "source": [
    "t_dmn_rest_two[0]"
   ]
  },
  {
   "cell_type": "code",
   "execution_count": 601,
   "id": "43bd79f4-4b0e-4beb-8e58-88585e976939",
   "metadata": {},
   "outputs": [],
   "source": [
    "conditions = ['rest vs 1-back', 'rest vs 2-back', '1-back vs 2-back']"
   ]
  },
  {
   "cell_type": "code",
   "execution_count": null,
   "id": "b2b11baa-37bb-4cde-9059-a018a73ba0ef",
   "metadata": {},
   "outputs": [],
   "source": [
    "frameon : bool, default: :rc:`legend.frameon`\n",
    "    Whether the legend should be drawn on a patch (frame).\n",
    "\n",
    "fancybox : bool, default: :rc:`legend.fancybox`\n",
    "    Whether round edges should be enabled around the `.FancyBboxPatch` which\n",
    "    makes up the legend's background.\n",
    "\n",
    "shadow : bool, default: :rc:`legend.shadow`\n",
    "    Whether to draw a shadow behind the legend.\n",
    "\n",
    "framealpha : float, default: :rc:`legend.framealpha`\n",
    "    The alpha transparency of the legend's background.\n",
    "    If *shadow* is activated and *framealpha* is ``None``, the default value is\n",
    "    ignored.\n",
    "\n",
    "facecolor : \"inherit\" or color, default: :rc:`legend.facecolor`\n",
    "    The legend's background color.\n",
    "    If ``\"inherit\"``, use :rc:`axes.facecolor`.\n",
    "\n",
    "edgecolor : \"inherit\" or color, default: :rc:`legend.edgecolor`\n",
    "    The legend's background patch edge color.\n",
    "    If ``\"inherit\"``, use take :rc:`axes.edgecolor`.\n",
    "\n",
    "mode : {\"expand\", None}\n",
    "    If *mode* is set to ``\"expand\"`` the legend will be horizontally\n",
    "    expanded to fill the axes area (or *bbox_to_anchor* if defines\n",
    "    the legend's size)."
   ]
  },
  {
   "cell_type": "code",
   "execution_count": 678,
   "id": "a3ea6d61-5a7f-42c3-9c1a-f289f73eaa75",
   "metadata": {},
   "outputs": [
    {
     "data": {
      "image/png": "[encoded data removed]",
      "text/plain": [
       "<Figure size 1000x1500 with 24 Axes>"
      ]
     },
     "metadata": {},
     "output_type": "display_data"
    }
   ],
   "source": [
    "# Create a figure and axis array with 24 subplots\n",
    "fig, axs = plt.subplots(6, 4, figsize=(10, 15))  # 4 rows, 6 columns\n",
    "\n",
    "# Plot something in each subplot (dummy example)\n",
    "# for reg in range(dmn_cos_rest_one.shape[1]):\n",
    "for i, ax in enumerate(axs.flat):\n",
    "    reg = i\n",
    "    ax.bar(conditions, height=[t_dmn_rest_one[reg][0], t_dmn_rest_two[reg][0], t_dmn_one_two[reg][0]], color=['blue','orange','green'], width=0.8)  # Replace with your actual data or plot\n",
    "    ax.set_ylim(0, 40)\n",
    "        # Add titles to subplots\n",
    "    ax.set_title(dmn_rows_list[i], fontsize='medium')\n",
    "    ax.set_xticklabels([], rotation=30, fontsize='small')\n",
    "    \n",
    "# Adjust layout to prevent overlapping\n",
    "legend_colors = ['blue','orange','green']\n",
    "handles = [plt.Line2D([0], [0], color=color, linewidth=3, linestyle='-') for color in legend_colors]\n",
    "\n",
    "# Create the legend with specified labels and colors\n",
    "fig.legend(handles, conditions, loc='upper right', bbox_to_anchor=(1, 0.99), framealpha=1, ncols = 3)\n",
    "fig.suptitle('t-statistic of cosine distance for every ROI in the DMN', fontsize=14, y=1)\n",
    "plt.tight_layout()\n",
    "\n",
    "plt.savefig('cosine_distances')\n",
    "# Show the plot\n",
    "plt.show()"
   ]
  },
  {
   "cell_type": "code",
   "execution_count": 598,
   "id": "4f8db892-bcff-4f66-9e65-f831fbd58a1b",
   "metadata": {},
   "outputs": [
    {
     "data": {
      "text/plain": [
       "<BarContainer object of 3 artists>"
      ]
     },
     "execution_count": 598,
     "metadata": {},
     "output_type": "execute_result"
    },
    {
     "data": {
      "image/png": "[encoded data removed]",
      "text/plain": [
       "<Figure size 640x480 with 1 Axes>"
      ]
     },
     "metadata": {},
     "output_type": "display_data"
    }
   ],
   "source": [
    "plt.bar(['rest vs 1-back', 'rest vs 2-back', '1-back vs 2-back'],height=[t_dmn_rest_one[0][0], t_dmn_rest_two[0][0], t_dmn_one_two[0][0]])"
   ]
  },
  {
   "cell_type": "code",
   "execution_count": 477,
   "id": "17bda609-4ecd-41d6-a1c8-163a78588112",
   "metadata": {},
   "outputs": [],
   "source": [
    "dmn_avg_cos_rest_one = np.mean(dmn_cos_rest_one, axis=0)\n",
    "dmn_avg_cos_rest_two = np.mean(dmn_cos_rest_two, axis=0)\n",
    "dmn_avg_cos_one_two = np.mean(dmn_cos_one_two, axis=0)"
   ]
  },
  {
   "cell_type": "code",
   "execution_count": 556,
   "id": "2f707c9e-ea9d-4855-9754-78ddbf16bec4",
   "metadata": {},
   "outputs": [
    {
     "data": {
      "text/plain": [
       "0.470269821900184"
      ]
     },
     "execution_count": 556,
     "metadata": {},
     "output_type": "execute_result"
    }
   ],
   "source": [
    "dmn_avg_cos_rest_one.shape"
   ]
  },
  {
   "cell_type": "code",
   "execution_count": 482,
   "id": "2b5bece0-f093-414f-a8b1-155c51ba5f2a",
   "metadata": {},
   "outputs": [
    {
     "data": {
      "text/plain": [
       "array([0.61739913, 0.57340567, 0.45636268, 0.44018941, 0.50391319,\n",
       "       0.47640661, 0.50571896, 0.51460556, 0.4683348 , 0.46955041,\n",
       "       0.52650389, 0.53647982, 0.47109676, 0.41376683, 0.57220986,\n",
       "       0.45432267, 0.50303675, 0.49733359, 0.4665129 , 0.51403172,\n",
       "       0.4549249 , 0.48550364, 0.52108516, 0.46102843])"
      ]
     },
     "execution_count": 482,
     "metadata": {},
     "output_type": "execute_result"
    }
   ],
   "source": [
    "dmn_avg_cos_rest_two"
   ]
  },
  {
   "cell_type": "code",
   "execution_count": 483,
   "id": "4acc5915-9c14-4bd2-a550-dc58682b2874",
   "metadata": {},
   "outputs": [
    {
     "data": {
      "text/plain": [
       "array([0.4251801 , 0.42252476, 0.33779516, 0.27512879, 0.3976504 ,\n",
       "       0.34310428, 0.36449893, 0.37637454, 0.34214902, 0.28313023,\n",
       "       0.3466292 , 0.34696425, 0.34358108, 0.26868534, 0.39588845,\n",
       "       0.35755469, 0.31338528, 0.36975825, 0.35982955, 0.4177554 ,\n",
       "       0.33628404, 0.27119655, 0.34463138, 0.32437851])"
      ]
     },
     "execution_count": 483,
     "metadata": {},
     "output_type": "execute_result"
    }
   ],
   "source": [
    "dmn_avg_cos_one_two"
   ]
  },
  {
   "cell_type": "markdown",
   "id": "2fe7367e-910f-4978-b9bf-bfb29a86bd83",
   "metadata": {},
   "source": [
    "!!!PAMIĘTAĆ ŻE WARTOŚCI SA POSORTOWANE!!!"
   ]
  },
  {
   "cell_type": "code",
   "execution_count": 658,
   "id": "f0870d0d-1e5b-46f9-ba5e-7d6e3fbe03e1",
   "metadata": {},
   "outputs": [
    {
     "data": {
      "image/png": "[encoded data removed]",
      "text/plain": [
       "<Figure size 2000x1500 with 1 Axes>"
      ]
     },
     "metadata": {},
     "output_type": "display_data"
    }
   ],
   "source": [
    "plt.figure(figsize=(20, 15), layout='constrained')\n",
    "plt.bar(dmn_rows_list, height=dmn_avg_cos_rest_one)\n",
    "plt.bar(dmn_rows_list, height=dmn_avg_cos_rest_two, alpha=0.5)\n",
    "plt.bar(dmn_rows_list, height=dmn_avg_cos_one_two, alpha=0.5)\n",
    "plt.legend(('1-back vs rest', '2-back vs rest', '1-back vs 2-back'), fontsize='xx-large')\n",
    "plt.title('Average cosine distances', fontsize='x-large')\n",
    "# plt.xlabel('Node index', fontsize='x-large')\n",
    "plt.ylabel('Average cosine distance', fontsize='x-large')\n",
    "plt.xticks(ticks=[x-0.5 for x in range(24)],labels=dmn_rows_list,rotation = 60, fontsize='x-large')\n",
    "\n",
    "plt.savefig('average_cosine_distance')\n",
    "plt.show()"
   ]
  },
  {
   "cell_type": "code",
   "execution_count": null,
   "id": "dab9d9a0-ae2d-4967-9166-ae8b7ca824f7",
   "metadata": {},
   "outputs": [],
   "source": []
  },
  {
   "cell_type": "markdown",
   "id": "ac4d6748-ef56-4d04-ace9-ab732a860ef6",
   "metadata": {},
   "source": [
    "# Degree"
   ]
  },
  {
   "cell_type": "code",
   "execution_count": 20,
   "id": "3953d3ae-2b47-41e4-902b-73746b48dc85",
   "metadata": {},
   "outputs": [],
   "source": [
    "rest_degree = np.zeros((40, 100), dtype='int')\n",
    "one_back_degree = np.zeros((40, 100), dtype='int')\n",
    "two_back_degree = np.zeros((40, 100), dtype='int')"
   ]
  },
  {
   "cell_type": "code",
   "execution_count": 49,
   "id": "07f62b33-7804-4ca0-a678-30b8b6ff3fa0",
   "metadata": {},
   "outputs": [],
   "source": [
    "for sub in range(subs.shape[0]):\n",
    "    rest_degree[sub] = bct.degrees_und(rest_corr_bin[sub])\n",
    "    \n",
    "    one_back_degree[sub] = bct.degrees_und(one_back_corr_bin[sub])\n",
    "    \n",
    "    two_back_degree[sub] = bct.degrees_und(two_back_corr_bin[sub])"
   ]
  },
  {
   "cell_type": "code",
   "execution_count": 56,
   "id": "02e33820-5fdc-4128-a2f7-2deeef5e62c4",
   "metadata": {},
   "outputs": [
    {
     "data": {
      "text/plain": [
       "(40, 100)"
      ]
     },
     "execution_count": 56,
     "metadata": {},
     "output_type": "execute_result"
    }
   ],
   "source": [
    "one_back_degree.shape"
   ]
  },
  {
   "cell_type": "code",
   "execution_count": 724,
   "id": "2ce07559-1266-46b1-8d3c-22674dab98c6",
   "metadata": {},
   "outputs": [],
   "source": [
    "degree_diff = one_back_degree - rest_degree\n",
    "avg_degree_diff = np.mean(degree_diff, axis=0)"
   ]
  },
  {
   "cell_type": "code",
   "execution_count": 57,
   "id": "bd0e1057-7956-4c25-a164-214a3f499de9",
   "metadata": {},
   "outputs": [],
   "source": [
    "one_avg_degree = np.mean(one_back_degree, axis=0)\n",
    "two_avg_degree = np.mean(two_back_degree, axis=0)\n",
    "rest_avg_degree = np.mean(rest_degree, axis=0)"
   ]
  },
  {
   "cell_type": "code",
   "execution_count": 411,
   "id": "e1b6fcfd-3506-49c5-81a5-82893b64ab6f",
   "metadata": {},
   "outputs": [
    {
     "data": {
      "text/html": [
       "<div>\n",
       "<style scoped>\n",
       "    .dataframe tbody tr th:only-of-type {\n",
       "        vertical-align: middle;\n",
       "    }\n",
       "\n",
       "    .dataframe tbody tr th {\n",
       "        vertical-align: top;\n",
       "    }\n",
       "\n",
       "    .dataframe thead th {\n",
       "        text-align: right;\n",
       "    }\n",
       "</style>\n",
       "<table border=\"1\" class=\"dataframe\">\n",
       "  <thead>\n",
       "    <tr style=\"text-align: right;\">\n",
       "      <th></th>\n",
       "      <th>ROI Label</th>\n",
       "      <th>ROI Name</th>\n",
       "      <th>R</th>\n",
       "      <th>A</th>\n",
       "      <th>S</th>\n",
       "    </tr>\n",
       "  </thead>\n",
       "  <tbody>\n",
       "    <tr>\n",
       "      <th>0</th>\n",
       "      <td>1</td>\n",
       "      <td>7Networks_LH_Vis_1</td>\n",
       "      <td>-26</td>\n",
       "      <td>-34</td>\n",
       "      <td>-18</td>\n",
       "    </tr>\n",
       "    <tr>\n",
       "      <th>1</th>\n",
       "      <td>2</td>\n",
       "      <td>7Networks_LH_Vis_2</td>\n",
       "      <td>-26</td>\n",
       "      <td>-76</td>\n",
       "      <td>-14</td>\n",
       "    </tr>\n",
       "    <tr>\n",
       "      <th>2</th>\n",
       "      <td>3</td>\n",
       "      <td>7Networks_LH_Vis_3</td>\n",
       "      <td>-18</td>\n",
       "      <td>-60</td>\n",
       "      <td>-6</td>\n",
       "    </tr>\n",
       "    <tr>\n",
       "      <th>3</th>\n",
       "      <td>4</td>\n",
       "      <td>7Networks_LH_Vis_4</td>\n",
       "      <td>-26</td>\n",
       "      <td>-96</td>\n",
       "      <td>-4</td>\n",
       "    </tr>\n",
       "    <tr>\n",
       "      <th>4</th>\n",
       "      <td>5</td>\n",
       "      <td>7Networks_LH_Vis_5</td>\n",
       "      <td>-6</td>\n",
       "      <td>-92</td>\n",
       "      <td>-2</td>\n",
       "    </tr>\n",
       "    <tr>\n",
       "      <th>...</th>\n",
       "      <td>...</td>\n",
       "      <td>...</td>\n",
       "      <td>...</td>\n",
       "      <td>...</td>\n",
       "      <td>...</td>\n",
       "    </tr>\n",
       "    <tr>\n",
       "      <th>95</th>\n",
       "      <td>96</td>\n",
       "      <td>7Networks_RH_Default_PFCdPFCm_1</td>\n",
       "      <td>6</td>\n",
       "      <td>48</td>\n",
       "      <td>0</td>\n",
       "    </tr>\n",
       "    <tr>\n",
       "      <th>96</th>\n",
       "      <td>97</td>\n",
       "      <td>7Networks_RH_Default_PFCdPFCm_2</td>\n",
       "      <td>12</td>\n",
       "      <td>50</td>\n",
       "      <td>40</td>\n",
       "    </tr>\n",
       "    <tr>\n",
       "      <th>97</th>\n",
       "      <td>98</td>\n",
       "      <td>7Networks_RH_Default_PFCdPFCm_3</td>\n",
       "      <td>26</td>\n",
       "      <td>24</td>\n",
       "      <td>50</td>\n",
       "    </tr>\n",
       "    <tr>\n",
       "      <th>98</th>\n",
       "      <td>99</td>\n",
       "      <td>7Networks_RH_Default_pCunPCC_1</td>\n",
       "      <td>12</td>\n",
       "      <td>-54</td>\n",
       "      <td>14</td>\n",
       "    </tr>\n",
       "    <tr>\n",
       "      <th>99</th>\n",
       "      <td>100</td>\n",
       "      <td>7Networks_RH_Default_pCunPCC_2</td>\n",
       "      <td>6</td>\n",
       "      <td>-52</td>\n",
       "      <td>30</td>\n",
       "    </tr>\n",
       "  </tbody>\n",
       "</table>\n",
       "<p>100 rows × 5 columns</p>\n",
       "</div>"
      ],
      "text/plain": [
       "    ROI Label                         ROI Name   R   A   S\n",
       "0           1               7Networks_LH_Vis_1 -26 -34 -18\n",
       "1           2               7Networks_LH_Vis_2 -26 -76 -14\n",
       "2           3               7Networks_LH_Vis_3 -18 -60  -6\n",
       "3           4               7Networks_LH_Vis_4 -26 -96  -4\n",
       "4           5               7Networks_LH_Vis_5  -6 -92  -2\n",
       "..        ...                              ...  ..  ..  ..\n",
       "95         96  7Networks_RH_Default_PFCdPFCm_1   6  48   0\n",
       "96         97  7Networks_RH_Default_PFCdPFCm_2  12  50  40\n",
       "97         98  7Networks_RH_Default_PFCdPFCm_3  26  24  50\n",
       "98         99   7Networks_RH_Default_pCunPCC_1  12 -54  14\n",
       "99        100   7Networks_RH_Default_pCunPCC_2   6 -52  30\n",
       "\n",
       "[100 rows x 5 columns]"
      ]
     },
     "execution_count": 411,
     "metadata": {},
     "output_type": "execute_result"
    }
   ],
   "source": [
    "regions"
   ]
  },
  {
   "cell_type": "code",
   "execution_count": 66,
   "id": "e96382c1-5d3b-4d29-a76b-55801533084f",
   "metadata": {},
   "outputs": [],
   "source": [
    "regions_degrees = regions"
   ]
  },
  {
   "cell_type": "code",
   "execution_count": 400,
   "id": "37a64ce4-4171-49f8-8e70-f0997ab1b5c6",
   "metadata": {},
   "outputs": [],
   "source": [
    "regions_degrees['one_avg_degree'] = one_avg_degree\n",
    "regions_degrees['two_avg_degree'] = two_avg_degree\n",
    "regions_degrees['rest_avg_degree'] = rest_avg_degree"
   ]
  },
  {
   "cell_type": "code",
   "execution_count": 766,
   "id": "c0ef18e7-676f-4a50-9894-ef232c15013b",
   "metadata": {},
   "outputs": [
    {
     "data": {
      "text/html": [
       "<div>\n",
       "<style scoped>\n",
       "    .dataframe tbody tr th:only-of-type {\n",
       "        vertical-align: middle;\n",
       "    }\n",
       "\n",
       "    .dataframe tbody tr th {\n",
       "        vertical-align: top;\n",
       "    }\n",
       "\n",
       "    .dataframe thead th {\n",
       "        text-align: right;\n",
       "    }\n",
       "</style>\n",
       "<table border=\"1\" class=\"dataframe\">\n",
       "  <thead>\n",
       "    <tr style=\"text-align: right;\">\n",
       "      <th></th>\n",
       "      <th>ROI Label</th>\n",
       "      <th>ROI Name</th>\n",
       "      <th>R</th>\n",
       "      <th>A</th>\n",
       "      <th>S</th>\n",
       "      <th>one_avg_degree</th>\n",
       "      <th>two_avg_degree</th>\n",
       "      <th>rest_avg_degree</th>\n",
       "    </tr>\n",
       "  </thead>\n",
       "  <tbody>\n",
       "    <tr>\n",
       "      <th>0</th>\n",
       "      <td>32</td>\n",
       "      <td>7Networks_LH_Limbic_TempPole_1</td>\n",
       "      <td>-32</td>\n",
       "      <td>2</td>\n",
       "      <td>-38</td>\n",
       "      <td>2.600</td>\n",
       "      <td>3.050</td>\n",
       "      <td>3.450</td>\n",
       "    </tr>\n",
       "    <tr>\n",
       "      <th>1</th>\n",
       "      <td>80</td>\n",
       "      <td>7Networks_RH_Limbic_TempPole_1</td>\n",
       "      <td>38</td>\n",
       "      <td>0</td>\n",
       "      <td>-38</td>\n",
       "      <td>3.750</td>\n",
       "      <td>3.225</td>\n",
       "      <td>4.750</td>\n",
       "    </tr>\n",
       "    <tr>\n",
       "      <th>2</th>\n",
       "      <td>25</td>\n",
       "      <td>7Networks_LH_SalVentAttn_FrOperIns_1</td>\n",
       "      <td>-42</td>\n",
       "      <td>-2</td>\n",
       "      <td>-6</td>\n",
       "      <td>4.500</td>\n",
       "      <td>4.875</td>\n",
       "      <td>6.675</td>\n",
       "    </tr>\n",
       "    <tr>\n",
       "      <th>3</th>\n",
       "      <td>1</td>\n",
       "      <td>7Networks_LH_Vis_1</td>\n",
       "      <td>-26</td>\n",
       "      <td>-34</td>\n",
       "      <td>-18</td>\n",
       "      <td>5.425</td>\n",
       "      <td>6.000</td>\n",
       "      <td>7.125</td>\n",
       "    </tr>\n",
       "    <tr>\n",
       "      <th>4</th>\n",
       "      <td>31</td>\n",
       "      <td>7Networks_LH_Limbic_OFC_1</td>\n",
       "      <td>-14</td>\n",
       "      <td>32</td>\n",
       "      <td>-20</td>\n",
       "      <td>5.350</td>\n",
       "      <td>4.400</td>\n",
       "      <td>7.200</td>\n",
       "    </tr>\n",
       "    <tr>\n",
       "      <th>...</th>\n",
       "      <td>...</td>\n",
       "      <td>...</td>\n",
       "      <td>...</td>\n",
       "      <td>...</td>\n",
       "      <td>...</td>\n",
       "      <td>...</td>\n",
       "      <td>...</td>\n",
       "      <td>...</td>\n",
       "    </tr>\n",
       "    <tr>\n",
       "      <th>95</th>\n",
       "      <td>72</td>\n",
       "      <td>7Networks_RH_DorsAttn_PrCv_1</td>\n",
       "      <td>48</td>\n",
       "      <td>10</td>\n",
       "      <td>26</td>\n",
       "      <td>41.725</td>\n",
       "      <td>39.300</td>\n",
       "      <td>38.650</td>\n",
       "    </tr>\n",
       "    <tr>\n",
       "      <th>96</th>\n",
       "      <td>7</td>\n",
       "      <td>7Networks_LH_Vis_7</td>\n",
       "      <td>-48</td>\n",
       "      <td>-70</td>\n",
       "      <td>10</td>\n",
       "      <td>34.625</td>\n",
       "      <td>34.775</td>\n",
       "      <td>39.150</td>\n",
       "    </tr>\n",
       "    <tr>\n",
       "      <th>97</th>\n",
       "      <td>5</td>\n",
       "      <td>7Networks_LH_Vis_5</td>\n",
       "      <td>-6</td>\n",
       "      <td>-92</td>\n",
       "      <td>-2</td>\n",
       "      <td>31.900</td>\n",
       "      <td>29.900</td>\n",
       "      <td>40.600</td>\n",
       "    </tr>\n",
       "    <tr>\n",
       "      <th>98</th>\n",
       "      <td>55</td>\n",
       "      <td>7Networks_RH_Vis_5</td>\n",
       "      <td>8</td>\n",
       "      <td>-76</td>\n",
       "      <td>6</td>\n",
       "      <td>39.900</td>\n",
       "      <td>37.175</td>\n",
       "      <td>40.950</td>\n",
       "    </tr>\n",
       "    <tr>\n",
       "      <th>99</th>\n",
       "      <td>16</td>\n",
       "      <td>7Networks_LH_DorsAttn_Post_1</td>\n",
       "      <td>-46</td>\n",
       "      <td>-58</td>\n",
       "      <td>-12</td>\n",
       "      <td>48.550</td>\n",
       "      <td>48.750</td>\n",
       "      <td>41.175</td>\n",
       "    </tr>\n",
       "  </tbody>\n",
       "</table>\n",
       "<p>100 rows × 8 columns</p>\n",
       "</div>"
      ],
      "text/plain": [
       "    ROI Label                              ROI Name   R   A   S  \\\n",
       "0          32        7Networks_LH_Limbic_TempPole_1 -32   2 -38   \n",
       "1          80        7Networks_RH_Limbic_TempPole_1  38   0 -38   \n",
       "2          25  7Networks_LH_SalVentAttn_FrOperIns_1 -42  -2  -6   \n",
       "3           1                    7Networks_LH_Vis_1 -26 -34 -18   \n",
       "4          31             7Networks_LH_Limbic_OFC_1 -14  32 -20   \n",
       "..        ...                                   ...  ..  ..  ..   \n",
       "95         72          7Networks_RH_DorsAttn_PrCv_1  48  10  26   \n",
       "96          7                    7Networks_LH_Vis_7 -48 -70  10   \n",
       "97          5                    7Networks_LH_Vis_5  -6 -92  -2   \n",
       "98         55                    7Networks_RH_Vis_5   8 -76   6   \n",
       "99         16          7Networks_LH_DorsAttn_Post_1 -46 -58 -12   \n",
       "\n",
       "    one_avg_degree  two_avg_degree  rest_avg_degree  \n",
       "0            2.600           3.050            3.450  \n",
       "1            3.750           3.225            4.750  \n",
       "2            4.500           4.875            6.675  \n",
       "3            5.425           6.000            7.125  \n",
       "4            5.350           4.400            7.200  \n",
       "..             ...             ...              ...  \n",
       "95          41.725          39.300           38.650  \n",
       "96          34.625          34.775           39.150  \n",
       "97          31.900          29.900           40.600  \n",
       "98          39.900          37.175           40.950  \n",
       "99          48.550          48.750           41.175  \n",
       "\n",
       "[100 rows x 8 columns]"
      ]
     },
     "execution_count": 766,
     "metadata": {},
     "output_type": "execute_result"
    }
   ],
   "source": [
    "regions_degrees_sort = regions_degrees.sort_values('rest_avg_degree')\n",
    "regions_degrees_sort = regions_degrees_sort.reset_index(drop=True)\n",
    "regions_degrees_sort"
   ]
  },
  {
   "cell_type": "code",
   "execution_count": 805,
   "id": "e180a812-d5e5-4360-ae23-0df96d127d1f",
   "metadata": {},
   "outputs": [
    {
     "name": "stdout",
     "output_type": "stream",
     "text": [
      "    ROI Label                               ROI Name   R   A   S  one_avg_degree  two_avg_degree  rest_avg_degree\n",
      "0          32         7Networks_LH_Limbic_TempPole_1 -32   2 -38           2.600           3.050            3.450\n",
      "1          80         7Networks_RH_Limbic_TempPole_1  38   0 -38           3.750           3.225            4.750\n",
      "2          25   7Networks_LH_SalVentAttn_FrOperIns_1 -42  -2  -6           4.500           4.875            6.675\n",
      "3           1                     7Networks_LH_Vis_1 -26 -34 -18           5.425           6.000            7.125\n",
      "4          31              7Networks_LH_Limbic_OFC_1 -14  32 -20           5.350           4.400            7.200\n",
      "5          92            7Networks_RH_Default_Temp_2  50   6 -18           4.150           4.600            7.525\n",
      "6          79              7Networks_RH_Limbic_OFC_1  12  34 -20           5.450           5.325            8.675\n",
      "7          33         7Networks_LH_Limbic_TempPole_2 -58 -32 -22           6.825           8.075            9.625\n",
      "8          51                     7Networks_RH_Vis_1  32 -32 -22           7.300           6.925           11.250\n",
      "9          62                  7Networks_RH_SomMot_4  58  -6  30           9.675           9.550           12.700\n",
      "10         38            7Networks_LH_Default_Temp_1 -56  -4 -20           9.400          10.825           13.900\n",
      "11         39            7Networks_LH_Default_Temp_2 -58 -32  -2          16.350          16.000           14.300\n",
      "12         60                  7Networks_RH_SomMot_2  40 -16  16          12.950          12.975           15.050\n",
      "13         11                  7Networks_LH_SomMot_2 -36 -22  16          12.625          12.425           15.700\n",
      "14         48             7Networks_LH_Default_PFC_7 -26  20  52          21.700          22.450           15.700\n",
      "15         37               7Networks_LH_Cont_Cing_1  -4 -26  34          16.150          19.275           17.025\n",
      "16         46             7Networks_LH_Default_PFC_5  -8  48  42          15.600          19.450           17.500\n",
      "17         42             7Networks_LH_Default_PFC_1 -34  22 -10          12.300          15.300           17.675\n",
      "18         99         7Networks_RH_Default_pCunPCC_1  12 -54  14          24.350          29.575           17.800\n",
      "19         44             7Networks_LH_Default_PFC_3  -6  46   0          11.200          13.700           18.150\n",
      "20         49         7Networks_LH_Default_pCunPCC_1 -12 -56  12          21.575          26.550           18.250\n",
      "21         64                  7Networks_RH_SomMot_6  40 -22  60          11.450          10.225           18.475\n",
      "22        100         7Networks_RH_Default_pCunPCC_2   6 -52  30          25.150          28.050           18.750\n",
      "23         13                  7Networks_LH_SomMot_4 -54  -8  34          16.100          16.300           19.100\n",
      "24         82                7Networks_RH_Cont_Par_2  46 -62  46          24.200          27.125           19.100\n",
      "25         43             7Networks_LH_Default_PFC_2 -46  34  -4          23.800          25.925           19.575\n",
      "26         50         7Networks_LH_Default_pCunPCC_2  -6 -52  34          26.600          29.750           19.975\n",
      "27         81                7Networks_RH_Cont_Par_1  58 -38  44          28.500          30.225           20.075\n",
      "28         97        7Networks_RH_Default_PFCdPFCm_2  12  50  40          17.775          21.600           20.200\n",
      "29         96        7Networks_RH_Default_PFCdPFCm_1   6  48   0          14.625          16.475           20.550\n",
      "30          4                     7Networks_LH_Vis_4 -26 -96  -4          12.150          13.375           20.750\n",
      "31         91            7Networks_RH_Default_Temp_1  62 -24 -18          18.125          20.375           20.800\n",
      "32         94            7Networks_RH_Default_PFCv_1  36  26 -16          15.925          19.175           20.875\n",
      "33         47             7Networks_LH_Default_PFC_6 -40  14  48          24.075          25.500           21.150\n",
      "34         45             7Networks_LH_Default_PFC_4 -24  60  -2          19.800          18.850           21.375\n",
      "35         68           7Networks_RH_DorsAttn_Post_2  50 -24  42          25.275          23.750           21.750\n",
      "36         30         7Networks_LH_SalVentAttn_Med_3  -6   4  62          25.700          24.650           21.975\n",
      "37         83               7Networks_RH_Cont_PFCl_1  30  58  -2          23.150          22.825           22.425\n",
      "38         98        7Networks_RH_Default_PFCdPFCm_3  26  24  50          27.225          27.600           22.450\n",
      "39         93            7Networks_RH_Default_Temp_3  58 -26  -2          25.775          23.875           22.750\n",
      "40         87               7Networks_RH_Cont_Cing_1   6 -28  34          22.775          26.325           22.925\n",
      "41         21           7Networks_LH_DorsAttn_Post_6 -22 -50  66          17.850          17.875           23.150\n",
      "42         19           7Networks_LH_DorsAttn_Post_4 -42 -34  48          22.100          21.625           23.175\n",
      "43         10                  7Networks_LH_SomMot_1 -54 -22   8          20.775          20.400           23.725\n",
      "44         95            7Networks_RH_Default_PFCv_2  50  28   0          24.100          25.950           24.050\n",
      "45         36               7Networks_LH_Cont_pCun_1 -10 -74  38          39.575          42.050           24.150\n",
      "46         57                     7Networks_RH_Vis_7  36 -82  16          23.850          24.925           24.275\n",
      "47         17           7Networks_LH_DorsAttn_Post_2 -58 -24  38          26.775          29.875           24.425\n",
      "48         59                  7Networks_RH_SomMot_1  52 -16   6          20.900          20.925           24.525\n",
      "49         74  7Networks_RH_SalVentAttn_TempOccPar_1  58 -42  12          29.975          27.925           24.800\n",
      "50         90             7Networks_RH_Default_Par_1  54 -50  30          31.350          34.225           24.950\n",
      "51         76   7Networks_RH_SalVentAttn_FrOperIns_1  40   8   2          20.800          21.725           25.200\n",
      "52         26   7Networks_LH_SalVentAttn_FrOperIns_2 -38  12   6          21.225          21.175           25.275\n",
      "53         40             7Networks_LH_Default_Par_1 -58 -50  12          29.675          29.525           25.300\n",
      "54         28         7Networks_LH_SalVentAttn_Med_1  -6  20  34          25.925          27.400           26.200\n",
      "55         35               7Networks_LH_Cont_PFCl_1 -44  32  20          31.075          32.725           26.300\n",
      "56         41             7Networks_LH_Default_Par_2 -48 -64  36          34.875          37.650           26.500\n",
      "57         54                     7Networks_RH_Vis_4  22 -96  -4          17.000          17.925           26.525\n",
      "58         61                  7Networks_RH_SomMot_3  56  -4  12          21.025          18.650           26.525\n",
      "59         34                7Networks_LH_Cont_Par_1 -38 -52  46          34.050          33.475           27.650\n",
      "60         20           7Networks_LH_DorsAttn_Post_5  -6 -60  56          34.975          31.400           27.725\n",
      "61         66                  7Networks_RH_SomMot_8   6 -28  70          22.425          19.600           28.250\n",
      "62         84               7Networks_RH_Cont_PFCl_2  46  38  16          36.025          35.625           28.450\n",
      "63          8                     7Networks_LH_Vis_8 -26 -88  20          24.450          23.125           28.850\n",
      "64         27        7Networks_LH_SalVentAttn_PFCl_1 -30  44  30          32.525          31.100           29.000\n",
      "65         14                  7Networks_LH_SomMot_5 -40 -22  58          17.975          17.450           29.150\n",
      "66         75  7Networks_RH_SalVentAttn_TempOccPar_2  60 -26  28          29.000          28.500           29.650\n",
      "67         65                  7Networks_RH_SomMot_7  30 -38  64          19.225          18.050           29.775\n",
      "68         69           7Networks_RH_DorsAttn_Post_3  38 -46  50          37.950          36.175           29.800\n",
      "69         86               7Networks_RH_Cont_PFCl_4  44  16  44          34.200          34.925           29.925\n",
      "70         63                  7Networks_RH_SomMot_5  46 -12  48          22.425          19.325           29.975\n",
      "71         22           7Networks_LH_DorsAttn_PrCv_1 -48   6  28          33.800          31.550           30.225\n",
      "72         71           7Networks_RH_DorsAttn_Post_5  14 -52  66          25.250          25.575           30.250\n",
      "73         12                  7Networks_LH_SomMot_3 -54 -12  14          27.275          25.400           30.575\n",
      "74         24     7Networks_LH_SalVentAttn_ParOper_1 -58 -38  30          35.900          37.625           30.625\n",
      "75         88              7Networks_RH_Cont_PFCmp_1   6  28  30          29.575          31.575           31.125\n",
      "76         52                     7Networks_RH_Vis_2  28 -66 -12          30.650          32.075           31.625\n",
      "77         15                  7Networks_LH_SomMot_6  -6 -28  70          26.850          23.650           31.650\n",
      "78         89               7Networks_RH_Cont_pCun_1  10 -66  42          48.375          48.550           31.875\n",
      "79          3                     7Networks_LH_Vis_3 -18 -60  -6          27.575          23.950           32.050\n",
      "80         77         7Networks_RH_SalVentAttn_Med_1  12 -32  46          30.750          31.450           32.375\n",
      "81          2                     7Networks_LH_Vis_2 -26 -76 -14          29.400          30.150           32.400\n",
      "82         85               7Networks_RH_Cont_PFCl_3  32  46  30          36.975          35.375           32.650\n",
      "83         53                     7Networks_RH_Vis_3  50 -60 -10          38.575          37.875           33.375\n",
      "84         58                     7Networks_RH_Vis_8  12 -86  30          26.200          25.800           33.500\n",
      "85         29         7Networks_LH_SalVentAttn_Med_2 -12 -34  46          31.050          30.175           33.525\n",
      "86         70           7Networks_RH_DorsAttn_Post_4  26 -66  52          38.325          33.550           33.750\n",
      "87         56                     7Networks_RH_Vis_6  18 -58   6          35.950          34.350           34.275\n",
      "88          6                     7Networks_LH_Vis_6 -12 -66   6          37.500          34.375           35.200\n",
      "89         23            7Networks_LH_DorsAttn_FEF_1 -26  -4  60          31.875          27.650           35.250\n",
      "90         67           7Networks_RH_DorsAttn_Post_1  50 -62  16          42.450          42.850           36.650\n",
      "91         78         7Networks_RH_SalVentAttn_Med_2   8   6  52          37.800          35.550           36.975\n",
      "92         73            7Networks_RH_DorsAttn_FEF_1  28  -2  60          35.300          29.550           37.500\n",
      "93         18           7Networks_LH_DorsAttn_Post_3 -24 -68  50          39.400          32.525           37.750\n",
      "94          9                     7Networks_LH_Vis_9  -6 -82  26          41.025          37.100           38.000\n",
      "95         72           7Networks_RH_DorsAttn_PrCv_1  48  10  26          41.725          39.300           38.650\n",
      "96          7                     7Networks_LH_Vis_7 -48 -70  10          34.625          34.775           39.150\n",
      "97          5                     7Networks_LH_Vis_5  -6 -92  -2          31.900          29.900           40.600\n",
      "98         55                     7Networks_RH_Vis_5   8 -76   6          39.900          37.175           40.950\n",
      "99         16           7Networks_LH_DorsAttn_Post_1 -46 -58 -12          48.550          48.750           41.175\n"
     ]
    }
   ],
   "source": [
    "print(regions_degrees_sort.to_string())"
   ]
  },
  {
   "cell_type": "code",
   "execution_count": null,
   "id": "595674b0-b439-45c4-bad3-f2fc925fee6a",
   "metadata": {},
   "outputs": [],
   "source": [
    "list_of_100 = [x for x in range(0,100)]"
   ]
  },
  {
   "cell_type": "code",
   "execution_count": 778,
   "id": "645aa8a4-c1c8-4dcb-8ba8-8685c1641ccb",
   "metadata": {},
   "outputs": [
    {
     "data": {
      "text/plain": [
       "RangeIndex(start=0, stop=100, step=1)"
      ]
     },
     "execution_count": 778,
     "metadata": {},
     "output_type": "execute_result"
    }
   ],
   "source": [
    "regions_degrees_sort.index"
   ]
  },
  {
   "cell_type": "code",
   "execution_count": null,
   "id": "6f775344-d9bc-42a0-a5cd-a6ad1eacf9ce",
   "metadata": {},
   "outputs": [],
   "source": [
    "regions_degrees_sort"
   ]
  },
  {
   "cell_type": "code",
   "execution_count": null,
   "id": "45cf97a9-75ff-4728-9117-3658e36b1ad2",
   "metadata": {},
   "outputs": [],
   "source": [
    "for i in regions_degrees_sort.index:\n",
    "    if i in dmn_indexes:\n",
    "        print(i)"
   ]
  },
  {
   "cell_type": "code",
   "execution_count": 777,
   "id": "b3cd2ce5-ef79-4276-9c68-965a3ea906b2",
   "metadata": {},
   "outputs": [
    {
     "data": {
      "text/plain": [
       "Index([31], dtype='int64')"
      ]
     },
     "execution_count": 777,
     "metadata": {},
     "output_type": "execute_result"
    }
   ],
   "source": [
    "regions_degrees_sort[regions_degrees_sort['ROI Label']==91].index"
   ]
  },
  {
   "cell_type": "code",
   "execution_count": 807,
   "id": "da94e4c4-d628-484a-8d20-6415a642bd72",
   "metadata": {},
   "outputs": [
    {
     "data": {
      "text/plain": [
       "Index([39], dtype='int64')"
      ]
     },
     "execution_count": 807,
     "metadata": {},
     "output_type": "execute_result"
    }
   ],
   "source": [
    "regions_degrees_sort[regions_degrees_sort['ROI Label']==93].index"
   ]
  },
  {
   "cell_type": "code",
   "execution_count": 821,
   "id": "d767850b-ae1a-401b-8f28-176d6e51619e",
   "metadata": {},
   "outputs": [
    {
     "data": {
      "text/plain": [
       "[5,\n",
       " 10,\n",
       " 11,\n",
       " 14,\n",
       " 16,\n",
       " 17,\n",
       " 18,\n",
       " 19,\n",
       " 20,\n",
       " 22,\n",
       " 25,\n",
       " 26,\n",
       " 28,\n",
       " 29,\n",
       " 31,\n",
       " 32,\n",
       " 33,\n",
       " 34,\n",
       " 38,\n",
       " 39,\n",
       " 44,\n",
       " 50,\n",
       " 53,\n",
       " 56]"
      ]
     },
     "execution_count": 821,
     "metadata": {},
     "output_type": "execute_result"
    }
   ],
   "source": [
    "indexy = regions_degrees_sort[regions_degrees_sort['ROI Name'].str.contains('Default')].index.to_list()\n",
    "indexy"
   ]
  },
  {
   "cell_type": "code",
   "execution_count": 817,
   "id": "653a9325-f791-40b9-b6f4-7c3b5dc49f5e",
   "metadata": {},
   "outputs": [
    {
     "name": "stdout",
     "output_type": "stream",
     "text": [
      "Index([5], dtype='int64')\n",
      "Index([10], dtype='int64')\n",
      "Index([11], dtype='int64')\n",
      "Index([14], dtype='int64')\n",
      "Index([15], dtype='int64')\n",
      "Index([16], dtype='int64')\n",
      "Index([17], dtype='int64')\n",
      "Index([18], dtype='int64')\n",
      "Index([19], dtype='int64')\n",
      "Index([20], dtype='int64')\n",
      "Index([25], dtype='int64')\n",
      "Index([28], dtype='int64')\n",
      "Index([29], dtype='int64')\n",
      "Index([31], dtype='int64')\n",
      "Index([32], dtype='int64')\n",
      "Index([33], dtype='int64')\n",
      "Index([34], dtype='int64')\n",
      "Index([38], dtype='int64')\n",
      "Index([39], dtype='int64')\n",
      "Index([44], dtype='int64')\n",
      "Index([50], dtype='int64')\n",
      "Index([53], dtype='int64')\n",
      "Index([56], dtype='int64')\n",
      "Index([78], dtype='int64')\n"
     ]
    }
   ],
   "source": [
    "\n",
    "\n",
    "for i in regions_degrees_sort['ROI Label']:\n",
    "    for x in dmn_indexes:\n",
    "        if i == x:\n",
    "            print(regions_degrees_sort[regions_degrees_sort['ROI Label']==i].index)"
   ]
  },
  {
   "cell_type": "code",
   "execution_count": 829,
   "id": "f77eea56-2f96-46ff-874b-f3eef435231c",
   "metadata": {},
   "outputs": [
    {
     "data": {
      "text/plain": [
       "ROI Label                                36\n",
       "ROI Name           7Networks_LH_Cont_pCun_1\n",
       "R                                       -10\n",
       "A                                       -74\n",
       "S                                        38\n",
       "one_avg_degree                       39.575\n",
       "two_avg_degree                        42.05\n",
       "rest_avg_degree                       24.15\n",
       "Name: 45, dtype: object"
      ]
     },
     "execution_count": 829,
     "metadata": {},
     "output_type": "execute_result"
    }
   ],
   "source": [
    "regions_degrees_sort.iloc[45]"
   ]
  },
  {
   "cell_type": "code",
   "execution_count": 823,
   "id": "d4ee7e48-0edf-423a-826c-a7f141b12e96",
   "metadata": {},
   "outputs": [
    {
     "data": {
      "image/png": "[encoded data removed]",
      "text/plain": [
       "<Figure size 1500x500 with 1 Axes>"
      ]
     },
     "metadata": {},
     "output_type": "display_data"
    }
   ],
   "source": [
    "plt.figure(figsize=(15,5))\n",
    "plt.bar(regions_degrees_sort.index, height=regions_degrees_sort['one_avg_degree'], width=1.2)\n",
    "plt.bar(regions_degrees_sort.index, height=regions_degrees_sort['two_avg_degree'], alpha=0.5, width=1.2)#np.sort(two_avg_degree)\n",
    "plt.bar(regions_degrees_sort.index, height=regions_degrees_sort['rest_avg_degree'], alpha=0.5, width=1.2)#np.sort(rest_avg_degree)\n",
    "\n",
    "plt.legend(('1-back', '2-back', 'rest'))\n",
    "# for i in regions_degrees_sort['ROI Label']:\n",
    "#     if i in dmn_indexes:\n",
    "plt.plot(indexy, [1 for x in range(24)], 'bo', markersize=2)\n",
    "plt.title('Average degree distribution')\n",
    "plt.xlabel('Node index')\n",
    "plt.ylabel('Average degree')\n",
    "plt.savefig('avg_degree_dist')"
   ]
  },
  {
   "cell_type": "markdown",
   "id": "c0fa7bea-c654-46bd-8585-84c175d12e6a",
   "metadata": {},
   "source": [
    "# Clustering Coefficient"
   ]
  },
  {
   "cell_type": "markdown",
   "id": "a1473f20-0aa3-47ec-b3c4-0c4366b2eadd",
   "metadata": {},
   "source": [
    "## 0.25 threshold"
   ]
  },
  {
   "cell_type": "code",
   "execution_count": 110,
   "id": "84550c23-da15-433f-8180-6a4401cf771e",
   "metadata": {},
   "outputs": [],
   "source": [
    "rest_coef = np.zeros((40, 100))\n",
    "one_coef = np.zeros((40, 100))\n",
    "two_coef = np.zeros((40, 100))"
   ]
  },
  {
   "cell_type": "code",
   "execution_count": 111,
   "id": "8377a2e9-e829-4fd7-bdf2-0bc989ceedeb",
   "metadata": {},
   "outputs": [],
   "source": [
    "for sub in range(subs.shape[0]):\n",
    "    one_coef[sub] = bct.clustering_coef_bu(one_back_corr_bin[sub])\n",
    "    two_coef[sub] = bct.clustering_coef_bu(two_back_corr_bin[sub])\n",
    "    rest_coef[sub] = bct.clustering_coef_bu(rest_corr_bin[sub])"
   ]
  },
  {
   "cell_type": "code",
   "execution_count": 699,
   "id": "1e65021d-5268-4e79-b120-5fe9e182f6ab",
   "metadata": {},
   "outputs": [],
   "source": [
    "rest_coef_mean = np.mean(rest_coef, axis=0)\n",
    "one_coef_mean = np.mean(one_coef, axis=0)\n",
    "two_coef_mean = np.mean(two_coef, axis=0)\n"
   ]
  },
  {
   "cell_type": "code",
   "execution_count": 758,
   "id": "62b2da52-5694-42ac-82e0-2d209a6e7710",
   "metadata": {},
   "outputs": [],
   "source": [
    "regions_coefs = regions\n",
    "regions_coefs['one_avg_coef'] = one_coef_mean\n",
    "regions_coefs['two_avg_coef'] = two_coef_mean\n",
    "regions_coefs['rest_avg_coef'] = rest_coef_mean"
   ]
  },
  {
   "cell_type": "code",
   "execution_count": 834,
   "id": "83e53036-386d-4889-9e08-2518548ee84c",
   "metadata": {},
   "outputs": [],
   "source": [
    "regions_coefs_sort = regions_coefs.sort_values('rest_avg_coef')"
   ]
  },
  {
   "cell_type": "code",
   "execution_count": null,
   "id": "37d5e6d5-e5e4-40a3-b7d4-a6c558102042",
   "metadata": {},
   "outputs": [],
   "source": [
    "regions_coefs_sort = regions_coefs_sort.reset_index(drop=True)\n",
    "print(regions_coefs_sort.to_string())"
   ]
  },
  {
   "cell_type": "code",
   "execution_count": null,
   "id": "e8c7c493-282c-4746-a1cb-191d9036d126",
   "metadata": {},
   "outputs": [],
   "source": [
    "indexy = regions_coefs_sort[regions_coefs_sort['ROI Name'].str.contains('Default')].index.to_list()\n",
    "indexy"
   ]
  },
  {
   "cell_type": "code",
   "execution_count": null,
   "id": "4dcbcd63-40cc-4d41-a3a1-7e823f287a99",
   "metadata": {},
   "outputs": [],
   "source": [
    "plt.figure(figsize=(15,5))\n",
    "plt.bar(regions_coefs_sort.index, height=regions_coefs_sort['one_avg_coef'], width=1.2)\n",
    "plt.bar(regions_coefs_sort.index, height=regions_coefs_sort['two_avg_coef'], alpha=0.5, width=1.2)#np.sort(two_avg_degree)\n",
    "plt.bar(regions_coefs_sort.index, height=regions_coefs_sort['rest_avg_coef'], alpha=0.5, width=1.2)#np.sort(rest_avg_degree)\n",
    "\n",
    "plt.legend(('1-back', '2-back', 'rest'))\n",
    "# for i in regions_degrees_sort['ROI Label']:\n",
    "#     if i in dmn_indexes:\n",
    "plt.plot(indexy, [0.1 for x in range(24)], 'bo', markersize=2)\n",
    "plt.title('Average clustering coefficient distribution')\n",
    "plt.xlabel('Node index')\n",
    "plt.ylabel('Average clustering coefficienct')\n",
    "plt.savefig('avg_clustering_dist')"
   ]
  },
  {
   "cell_type": "code",
   "execution_count": 847,
   "id": "90341f5d-b845-4994-b5ff-b46f64921abd",
   "metadata": {},
   "outputs": [],
   "source": [
    "clust_anova = scipy.stats.f_oneway(rest_coef_mean, one_coef_mean, two_coef_mean)\n",
    "clust_tukey = scipy.stats.tukey_hsd(rest_coef_mean, one_coef_mean, two_coef_mean)"
   ]
  },
  {
   "cell_type": "code",
   "execution_count": null,
   "id": "30f9c2b8-5df1-46d7-9c21-9d39c656ee77",
   "metadata": {},
   "outputs": [],
   "source": [
    "print(clust_anova, clust_tukey)"
   ]
  },
  {
   "cell_type": "code",
   "execution_count": 693,
   "id": "c01265c4-5c76-4902-873a-2572a7fd48f0",
   "metadata": {},
   "outputs": [],
   "source": [
    "rest_coef_df = pd.DataFrame(rest_coef)"
   ]
  },
  {
   "cell_type": "code",
   "execution_count": null,
   "id": "b122a9e6-6daa-4b71-96d1-16857f3dbb66",
   "metadata": {},
   "outputs": [],
   "source": [
    "rest_coef_df.describe()"
   ]
  },
  {
   "cell_type": "code",
   "execution_count": null,
   "id": "0d6a0876-b2d1-4a21-9b69-97988f6f6b41",
   "metadata": {},
   "outputs": [],
   "source": [
    "two_coef[1]"
   ]
  },
  {
   "cell_type": "code",
   "execution_count": null,
   "id": "3b3f76bb-99f2-47de-9b0b-b59b88e7285d",
   "metadata": {},
   "outputs": [],
   "source": [
    "rest_coef[1]"
   ]
  },
  {
   "cell_type": "markdown",
   "id": "7e103fe2-6e07-4f96-8200-dd804b1df9fc",
   "metadata": {
    "jp-MarkdownHeadingCollapsed": true
   },
   "source": [
    "## 0.50 threshold"
   ]
  },
  {
   "cell_type": "code",
   "execution_count": 113,
   "id": "233c5591-77dd-4fd4-a1b4-5be7c0fb73e3",
   "metadata": {},
   "outputs": [],
   "source": [
    "rest_coef_50 = np.zeros((40, 100))\n",
    "one_coef_50 = np.zeros((40, 100))\n",
    "two_coef_50 = np.zeros((40, 100))"
   ]
  },
  {
   "cell_type": "code",
   "execution_count": 114,
   "id": "30833ccf-9437-4238-a09d-0a0f343390c9",
   "metadata": {},
   "outputs": [],
   "source": [
    "for sub in range(subs.shape[0]):\n",
    "    one_coef_50[sub] = bct.clustering_coef_bu(one_back_corr_bin_50[sub,:,:])\n",
    "    two_coef_50[sub] = bct.clustering_coef_bu(two_back_corr_bin_50[sub,:,:])\n",
    "    rest_coef_50[sub] = bct.clustering_coef_bu(rest_corr_bin_50[sub,:,:])"
   ]
  },
  {
   "cell_type": "code",
   "execution_count": 115,
   "id": "8101a2d7-49c4-4348-8cd5-16a8c529cd22",
   "metadata": {},
   "outputs": [
    {
     "data": {
      "text/plain": [
       "array([0.        , 0.87012987, 0.86956522, 0.78181818, 0.71397849,\n",
       "       0.75333333, 0.64904863, 0.9047619 , 0.975     , 0.8047619 ,\n",
       "       0.97222222, 0.65615616, 0.6951567 , 0.85454545, 0.58170732,\n",
       "       0.50546448, 0.8       , 0.67820513, 0.73333333, 0.68589744,\n",
       "       0.8       , 0.63838384, 0.68556005, 0.67015099, 0.        ,\n",
       "       0.65719697, 0.53360608, 0.56910569, 0.58776596, 0.93464052,\n",
       "       1.        , 0.        , 0.        , 0.66341463, 0.81521739,\n",
       "       0.54856744, 0.9       , 0.33333333, 0.73076923, 0.5772549 ,\n",
       "       0.57478992, 0.66666667, 0.74242424, 0.52380952, 0.        ,\n",
       "       0.66666667, 0.70153846, 1.        , 0.64      , 0.66666667,\n",
       "       0.        , 0.49678551, 0.60511034, 0.61097561, 0.59710145,\n",
       "       0.82631579, 0.66218487, 0.91052632, 0.57478992, 0.68505747,\n",
       "       0.70655271, 1.        , 0.7047619 , 0.66666667, 0.8       ,\n",
       "       0.69846154, 0.55136268, 0.75692308, 0.65005537, 0.55325815,\n",
       "       0.76679842, 0.62512077, 0.59389454, 0.67989418, 0.67943548,\n",
       "       0.66714083, 0.63066202, 0.75333333, 1.        , 0.        ,\n",
       "       0.64705882, 0.79047619, 0.        , 0.54591837, 0.64545455,\n",
       "       0.68660969, 0.75      , 0.65      , 0.54208999, 0.33333333,\n",
       "       0.57142857, 0.        , 0.68548387, 0.26666667, 0.7       ,\n",
       "       0.86666667, 0.86666667, 0.89090909, 0.86      , 0.86666667])"
      ]
     },
     "execution_count": 115,
     "metadata": {},
     "output_type": "execute_result"
    }
   ],
   "source": [
    "one_coef[1]"
   ]
  },
  {
   "cell_type": "code",
   "execution_count": 116,
   "id": "e9063610-671f-45ac-baf2-5b417a71bef7",
   "metadata": {},
   "outputs": [
    {
     "data": {
      "text/plain": [
       "array([0.6       , 0.76596737, 0.89882353, 0.87298387, 0.80370873,\n",
       "       0.89333333, 0.81211589, 0.93846154, 0.97419355, 0.81706604,\n",
       "       0.91362126, 0.8679135 , 0.88098694, 0.90147783, 0.7637827 ,\n",
       "       0.65401987, 0.88235294, 0.78473998, 0.86363636, 0.78136646,\n",
       "       0.94827586, 0.77973396, 0.83365385, 0.82270466, 0.73333333,\n",
       "       0.85245902, 0.71561772, 0.76740443, 0.74527953, 0.861464  ,\n",
       "       1.        , 0.5       , 1.        , 0.82539683, 0.85480944,\n",
       "       0.76342096, 0.70899471, 0.44923077, 0.92753623, 0.8057971 ,\n",
       "       0.67656012, 0.88383838, 0.76190476, 0.7       , 0.87272727,\n",
       "       0.78205128, 0.81694915, 0.86666667, 0.67205387, 0.87878788,\n",
       "       0.53571429, 0.64601262, 0.65076274, 0.71387387, 0.76934469,\n",
       "       0.86565657, 0.76875   , 0.95079365, 0.71042618, 0.81057692,\n",
       "       0.81920904, 0.87294118, 0.87953556, 0.91591592, 0.93073593,\n",
       "       0.80701754, 0.71728272, 0.87003367, 0.83389831, 0.7563964 ,\n",
       "       0.85858586, 0.78772379, 0.77763975, 0.84769963, 0.81845238,\n",
       "       0.79104478, 0.77464789, 0.82622951, 0.78205128, 0.7       ,\n",
       "       0.78371232, 0.7230444 , 0.72727273, 0.70676692, 0.70695971,\n",
       "       0.80015083, 0.68705548, 0.7575188 , 0.6760012 , 0.6       ,\n",
       "       0.56774194, 0.5       , 0.77805383, 0.60734694, 0.82293179,\n",
       "       0.90909091, 0.63333333, 0.89393939, 0.8302005 , 0.73076923])"
      ]
     },
     "execution_count": 116,
     "metadata": {},
     "output_type": "execute_result"
    }
   ],
   "source": [
    "one_coef_50[1]"
   ]
  },
  {
   "cell_type": "markdown",
   "id": "9aa7590f-3e4a-43df-9857-bbd84e3d7a98",
   "metadata": {
    "jp-MarkdownHeadingCollapsed": true
   },
   "source": [
    "# Centrality"
   ]
  },
  {
   "cell_type": "markdown",
   "id": "ee08d745-25be-4f00-9269-f2357d237259",
   "metadata": {},
   "source": [
    "## Betweenness centrality\n",
    "* Ewentualnie do normalizacji"
   ]
  },
  {
   "cell_type": "code",
   "execution_count": 121,
   "id": "85e0b672-f244-43d2-8f71-bf5197ce3ff1",
   "metadata": {},
   "outputs": [],
   "source": [
    "rest_betw = np.zeros((40, 100))\n",
    "one_betw = np.zeros((40, 100))\n",
    "two_betw= np.zeros((40, 100))\n",
    "\n",
    "for sub in range(subs.shape[0]):\n",
    "    one_betw[sub] = bct.betweenness_bin(one_back_corr_bin[sub])\n",
    "    two_betw[sub] = bct.betweenness_bin(two_back_corr_bin[sub])\n",
    "    rest_betw[sub] = bct.betweenness_bin(rest_corr_bin[sub])"
   ]
  },
  {
   "cell_type": "code",
   "execution_count": 317,
   "id": "e7ae3fd8-a002-4531-9bd4-5995f35f6660",
   "metadata": {},
   "outputs": [
    {
     "data": {
      "text/plain": [
       "array([  4.18424834, 103.08874101,  82.92865523, 171.98730642,\n",
       "       225.54896488,  67.83127665, 140.74961284,  48.95962492,\n",
       "       227.71750023, 162.533898  ,   0.        ,  79.34553846,\n",
       "        10.95341678, 270.42568321,  27.01895665, 217.98733903,\n",
       "        17.92379428,  75.33939905,  28.55173627, 191.40489588,\n",
       "        21.56862117, 112.53261031,  73.83485322,  37.05435348,\n",
       "        12.09610902,  25.80937584, 206.75037014,  24.62199657,\n",
       "       134.88101733,  36.05920132,   0.        ,   1.92726732,\n",
       "        79.22501535,  19.5811879 , 120.15019706,  97.74237083,\n",
       "        13.27704969, 477.80306581,  77.54416527, 166.25989116,\n",
       "       178.32305141,  90.86875934, 149.25549578,   6.01670428,\n",
       "       318.25822853,  88.81578088,  82.54638334,  14.94586838,\n",
       "        58.35099761,  56.46882101,  33.82017981, 179.38493716,\n",
       "       364.08042233, 441.47189901, 366.20970685, 135.47441241,\n",
       "        68.26585979,  90.86645829, 216.48483364,  11.56858962,\n",
       "        97.86995441,   1.37982341, 111.48965876,  58.45066187,\n",
       "        75.36074922,  64.37007065, 144.21773029,   3.96014795,\n",
       "        38.73266568, 105.17070104,  99.50234724,  37.37342796,\n",
       "        43.36127581,  23.44761346,  10.05005875,  82.57645396,\n",
       "       100.05312668,  32.66903597,  14.33610545,  40.076831  ,\n",
       "         6.32179782,  62.52742529, 219.15479504,  22.99002345,\n",
       "        53.86222342,  65.21325931,  47.31592072, 198.09037355,\n",
       "       328.43888176,  57.60045666, 287.37650185, 272.43975278,\n",
       "       483.88593451, 199.75143782,  38.52820529,   9.56840572,\n",
       "        76.59929278,  67.97778333, 237.13355075,  50.09884219])"
      ]
     },
     "execution_count": 317,
     "metadata": {},
     "output_type": "execute_result"
    }
   ],
   "source": [
    "rest_betw[1]"
   ]
  },
  {
   "cell_type": "markdown",
   "id": "efbb7436-6fdd-4ae9-9ae6-1b4cae1d42b0",
   "metadata": {},
   "source": [
    "## Flow coefficient (do opisania w thesis)"
   ]
  },
  {
   "cell_type": "code",
   "execution_count": 140,
   "id": "e61ec1aa-edad-4d7d-8751-cc081dbdfb4b",
   "metadata": {},
   "outputs": [],
   "source": [
    "rest_flow = np.zeros((40, 100))\n",
    "one_flow = np.zeros((40, 100))\n",
    "two_flow = np.zeros((40, 100))\n",
    "\n",
    "one_flow_avg = np.zeros(40)\n",
    "two_flow_avg = np.zeros(40)\n",
    "rest_flow_avg = np.zeros(40)\n",
    "\n",
    "one_total_flow = np.zeros((40, 100), dtype='int')\n",
    "two_total_flow = np.zeros((40, 100), dtype='int')\n",
    "rest_total_flow = np.zeros((40, 100), dtype='int')\n",
    "\n",
    "for sub in range(subs.shape[0]):\n",
    "    one_flow[sub], one_flow_avg[sub], one_total_flow[sub] = bct.flow_coef_bd(one_back_corr_bin[sub])\n",
    "    two_flow[sub], two_flow_avg[sub], two_total_flow[sub] = bct.flow_coef_bd(two_back_corr_bin[sub])\n",
    "    rest_flow[sub], rest_flow_avg[sub], rest_total_flow[sub] = bct.flow_coef_bd(rest_corr_bin[sub])"
   ]
  },
  {
   "cell_type": "code",
   "execution_count": 139,
   "id": "122d2f64-e086-4b64-886a-1d5c54338974",
   "metadata": {},
   "outputs": [
    {
     "data": {
      "text/plain": [
       "(40, 100)"
      ]
     },
     "execution_count": 139,
     "metadata": {},
     "output_type": "execute_result"
    }
   ],
   "source": [
    "one_total_flow"
   ]
  },
  {
   "cell_type": "markdown",
   "id": "7ee15cf3-ef1c-4f4f-a126-917b2b9917cd",
   "metadata": {
    "jp-MarkdownHeadingCollapsed": true
   },
   "source": [
    "# Ewentualnie do policzenia - module degree z_score"
   ]
  },
  {
   "cell_type": "code",
   "execution_count": 192,
   "id": "7a6a9126-6b1d-4100-8b67-57e1c31ae2bb",
   "metadata": {},
   "outputs": [],
   "source": [
    "rest_mod_z = np.zeros((40, 100))\n",
    "one_mod_z = np.zeros((40, 100))\n",
    "two_mod_z = np.zeros((40, 100))\n",
    "\n",
    "for sub in range(subs.shape[0]):\n",
    "    one_mod_z[sub] = bct.module_degree_zscore(one_back_corr_bin[sub], one_louvain[sub])\n",
    "    two_mod_z[sub] = bct.module_degree_zscore(two_back_corr_bin[sub], two_louvain[sub])\n",
    "    rest_mod_z[sub] = bct.module_degree_zscore(rest_corr_bin[sub], rest_louvain[sub])"
   ]
  },
  {
   "cell_type": "code",
   "execution_count": null,
   "id": "f17eac45-af69-4e1c-a3bd-482a75fcd467",
   "metadata": {},
   "outputs": [],
   "source": [
    "one_mod_z[3]"
   ]
  },
  {
   "cell_type": "markdown",
   "id": "a222b32e-dec8-4260-9c0e-491721fce909",
   "metadata": {},
   "source": [
    "# Participation coef - potrzebny community affiliation vector"
   ]
  },
  {
   "cell_type": "code",
   "execution_count": 198,
   "id": "810dc469-f46d-4169-bb2a-0accf0c14f30",
   "metadata": {},
   "outputs": [],
   "source": [
    "rest_part_coef = np.zeros((40, 100))\n",
    "one_part_coef = np.zeros((40, 100))\n",
    "two_part_coef = np.zeros((40, 100))\n",
    "\n",
    "for sub in range(subs.shape[0]):\n",
    "    one_part_coef[sub] = bct.participation_coef(one_back_corr_bin[sub], one_louvain[sub])\n",
    "    two_part_coef[sub] = bct.participation_coef(two_back_corr_bin[sub], two_louvain[sub])\n",
    "    rest_part_coef[sub] = bct.participation_coef(rest_corr_bin[sub], rest_louvain[sub])"
   ]
  },
  {
   "cell_type": "code",
   "execution_count": 866,
   "id": "9b592594-73f4-4672-a619-8d77de8b9250",
   "metadata": {},
   "outputs": [
    {
     "data": {
      "text/plain": [
       "(40, 100)"
      ]
     },
     "execution_count": 866,
     "metadata": {},
     "output_type": "execute_result"
    }
   ],
   "source": [
    "rest_part_coef.shape"
   ]
  },
  {
   "cell_type": "code",
   "execution_count": 868,
   "id": "8e54b928-e02c-47d0-9d58-d12b7cb5fbd4",
   "metadata": {},
   "outputs": [],
   "source": [
    "rest_part_mean = np.mean(rest_part_coef, axis=0)\n",
    "one_part_mean = np.mean(one_part_coef, axis=0)\n",
    "two_part_mean = np.mean(two_part_coef, axis=0)"
   ]
  },
  {
   "cell_type": "code",
   "execution_count": 875,
   "id": "3c3049df-a862-4cbc-bdd6-8c06f1a993e2",
   "metadata": {},
   "outputs": [],
   "source": [
    "regions_part = regions\n",
    "regions_part['one_avg_coef'] = one_part_mean\n",
    "regions_part['two_avg_coef'] = two_part_mean\n",
    "regions_part['rest_avg_coef'] = rest_part_mean"
   ]
  },
  {
   "cell_type": "code",
   "execution_count": 876,
   "id": "2077520c-443f-41a1-ad40-d7fb2784fc73",
   "metadata": {},
   "outputs": [],
   "source": [
    "regions_part_sort = regions_part.sort_values('rest_avg_coef')"
   ]
  },
  {
   "cell_type": "code",
   "execution_count": null,
   "id": "63f06d6a-679e-46bb-a312-f9f7be236149",
   "metadata": {},
   "outputs": [],
   "source": [
    "regions_part_sort = regions_part_sort.reset_index(drop=True)\n",
    "print(regions_part_sort.to_string())"
   ]
  },
  {
   "cell_type": "code",
   "execution_count": 878,
   "id": "b1cd8243-8b9f-4582-a9e9-0af6f957e6fc",
   "metadata": {},
   "outputs": [],
   "source": [
    "indexy = regions_part_sort[regions_part_sort['ROI Name'].str.contains('Default')].index.to_list()\n",
    "# indexy"
   ]
  },
  {
   "cell_type": "code",
   "execution_count": 879,
   "id": "d1c354d3-9fb5-4302-95ef-6681e886a182",
   "metadata": {},
   "outputs": [
    {
     "data": {
      "image/png": "[encoded data removed]",
      "text/plain": [
       "<Figure size 1500x500 with 1 Axes>"
      ]
     },
     "metadata": {},
     "output_type": "display_data"
    }
   ],
   "source": [
    "plt.figure(figsize=(15,5))\n",
    "plt.bar(regions_part_sort.index, height=regions_part_sort['one_avg_coef'], width=1.2)\n",
    "plt.bar(regions_part_sort.index, height=regions_part_sort['two_avg_coef'], alpha=0.5, width=1.2)#np.sort(two_avg_degree)\n",
    "plt.bar(regions_part_sort.index, height=regions_part_sort['rest_avg_coef'], alpha=0.5, width=1.2)#np.sort(rest_avg_degree)\n",
    "\n",
    "plt.legend(('1-back', '2-back', 'rest'))\n",
    "# for i in regions_degrees_sort['ROI Label']:\n",
    "#     if i in dmn_indexes:\n",
    "plt.plot(indexy, [0.1 for x in range(24)], 'bo', markersize=2)\n",
    "plt.title('Average participation coefficient distribution')\n",
    "plt.xlabel('Node index')\n",
    "plt.ylabel('Average participation coefficient')\n",
    "plt.savefig('avg_participation_coefficient')"
   ]
  },
  {
   "cell_type": "code",
   "execution_count": 880,
   "id": "647dfdc8-bc62-4f79-bef2-d58e41e677c7",
   "metadata": {},
   "outputs": [],
   "source": [
    "part_anova = scipy.stats.f_oneway(rest_part_mean, one_part_mean, two_part_mean)\n",
    "part_tukey = scipy.stats.tukey_hsd(rest_part_mean, one_part_mean, two_part_mean)"
   ]
  },
  {
   "cell_type": "code",
   "execution_count": 881,
   "id": "e363bbe4-6fe6-42a3-9908-2047c54d69f6",
   "metadata": {},
   "outputs": [
    {
     "name": "stdout",
     "output_type": "stream",
     "text": [
      "F_onewayResult(statistic=4.0641776833592544, pvalue=0.018141422817576473) Tukey's HSD Pairwise Group Comparisons (95.0% Confidence Interval)\n",
      "Comparison  Statistic  p-value  Lower CI  Upper CI\n",
      " (0 - 1)     -0.043     0.031    -0.083    -0.003\n",
      " (0 - 2)     -0.041     0.046    -0.081    -0.001\n",
      " (1 - 0)      0.043     0.031     0.003     0.083\n",
      " (1 - 2)      0.003     0.987    -0.037     0.043\n",
      " (2 - 0)      0.041     0.046     0.001     0.081\n",
      " (2 - 1)     -0.003     0.987    -0.043     0.037\n",
      "\n"
     ]
    }
   ],
   "source": [
    "print(part_anova, part_tukey)"
   ]
  },
  {
   "cell_type": "markdown",
   "id": "22f4bd44-682d-4448-9929-ec561005546f",
   "metadata": {
    "jp-MarkdownHeadingCollapsed": true
   },
   "source": [
    "# rich_club_bu"
   ]
  },
  {
   "cell_type": "code",
   "execution_count": 219,
   "id": "153feeb9-7c7d-45d9-8558-eae7fc93ff20",
   "metadata": {},
   "outputs": [],
   "source": [
    "rest_rich_R = np.zeros(57, dtype='object')\n",
    "one_rich_R = np.zeros(57, dtype='object')\n",
    "two_rich_R = np.zeros(57, dtype='object')\n",
    "\n",
    "rest_rich_Nk = np.zeros(40, dtype='object')\n",
    "one_rich_Nk = np.zeros(40, dtype='object')\n",
    "two_rich_Nk = np.zeros(40, dtype='object')\n",
    "\n",
    "rest_rich_Ek = np.zeros(40, dtype='object')\n",
    "one_rich_Ek = np.zeros(40, dtype='object')\n",
    "two_rich_Ek = np.zeros(40, dtype='object')"
   ]
  },
  {
   "cell_type": "code",
   "execution_count": 221,
   "id": "7a81febf-afff-4855-bb48-a24870f7fe27",
   "metadata": {},
   "outputs": [],
   "source": [
    "for sub in range(subs.shape[0]):\n",
    "    one_rich_R[sub], one_rich_Nk[sub], one_rich_Ek[sub] = bct.rich_club_bu(one_back_corr_bin[sub])\n",
    "    two_rich_R[sub], two_rich_Nk[sub], two_rich_Ek[sub] = bct.rich_club_bu(two_back_corr_bin[sub])\n",
    "    rest_rich_R[sub], rest_rich_Nk[sub], rest_rich_Ek[sub] = bct.rich_club_bu(rest_corr_bin[sub])"
   ]
  },
  {
   "cell_type": "code",
   "execution_count": 222,
   "id": "36afe499-5d1f-498c-89e6-659f1896b926",
   "metadata": {},
   "outputs": [
    {
     "data": {
      "text/plain": [
       "array([0.25010101, 0.25479283, 0.26417526, 0.26907895, 0.28447873,\n",
       "       0.30012484, 0.30012484, 0.30012484, 0.3046476 , 0.31846785,\n",
       "       0.32352941, 0.33785005, 0.34228395, 0.3471519 , 0.36363636,\n",
       "       0.38584475, 0.40207039, 0.44345238, 0.5037594 , 0.53529001,\n",
       "       0.57882353, 0.60629252, 0.63552266, 0.64541063, 0.67171717,\n",
       "       0.68181818, 0.74110953, 0.77327327, 0.80840336, 0.81996435,\n",
       "       0.82386364, 0.8516129 , 0.86896552, 0.89417989, 0.92022792,\n",
       "       0.92333333, 0.98245614, 0.98245614, 1.        , 1.        ,\n",
       "       1.        , 1.        , 1.        , 1.        , 1.        ,\n",
       "       1.        , 1.        , 1.        , 1.        , 1.        ,\n",
       "              nan,        nan,        nan])"
      ]
     },
     "execution_count": 222,
     "metadata": {},
     "output_type": "execute_result"
    }
   ],
   "source": [
    "rest_rich_R[1]"
   ]
  },
  {
   "cell_type": "markdown",
   "id": "1e3a7b82-5c35-4f9a-b7df-349193899bca",
   "metadata": {
    "jp-MarkdownHeadingCollapsed": true
   },
   "source": [
    "# characteristic path length\n",
    "* needs distance first"
   ]
  },
  {
   "cell_type": "markdown",
   "id": "96ab2692-f992-4d2d-9d46-d9a401eb7b81",
   "metadata": {},
   "source": [
    "## distance"
   ]
  },
  {
   "cell_type": "code",
   "execution_count": 236,
   "id": "cfeabcad-b5a6-443f-9729-301132504a84",
   "metadata": {},
   "outputs": [],
   "source": [
    "rest_dist = np.zeros((40, 100, 100))#, dtype='object')\n",
    "one_dist = np.zeros((40, 100, 100))# dtype='object')\n",
    "two_dist = np.zeros((40, 100, 100))# dtype='object')\n",
    "\n",
    "for sub in range(subs.shape[0]):\n",
    "    one_dist[sub] = bct.distance_bin(one_back_corr_bin[sub])\n",
    "    two_dist[sub] = bct.distance_bin(two_back_corr_bin[sub])\n",
    "    rest_dist[sub] = bct.distance_bin(rest_corr_bin[sub])"
   ]
  },
  {
   "cell_type": "code",
   "execution_count": 239,
   "id": "fe0c3602-e536-468b-b2cb-3179d5fdae22",
   "metadata": {},
   "outputs": [
    {
     "data": {
      "text/plain": [
       "array([[0., 3., 3., ..., 3., 4., 3.],\n",
       "       [3., 0., 1., ..., 2., 2., 3.],\n",
       "       [3., 1., 0., ..., 3., 2., 3.],\n",
       "       ...,\n",
       "       [3., 2., 3., ..., 0., 2., 1.],\n",
       "       [4., 2., 2., ..., 2., 0., 1.],\n",
       "       [3., 3., 3., ..., 1., 1., 0.]])"
      ]
     },
     "execution_count": 239,
     "metadata": {},
     "output_type": "execute_result"
    }
   ],
   "source": [
    "rest_dist[1]"
   ]
  },
  {
   "cell_type": "code",
   "execution_count": 330,
   "id": "3582825d-68d9-4dcf-890d-72c415f35bc2",
   "metadata": {},
   "outputs": [],
   "source": [
    "rest_char = np.empty(40, dtype='object') #lambda(charpath)*efficiency*ecc(Nx1)*radius*diameter\n",
    "one_char = np.empty(40, dtype='object')\n",
    "two_char = np.empty(40, dtype='object')\n",
    "\n",
    "for sub in range(subs.shape[0]):\n",
    "    one_char[sub] = bct.charpath(one_dist[sub])\n",
    "    two_char[sub] = bct.charpath(two_dist[sub])\n",
    "    rest_char[sub] = bct.charpath(rest_dist[sub])"
   ]
  },
  {
   "cell_type": "code",
   "execution_count": 331,
   "id": "54d00ac2-6571-4514-86ac-9136770377b0",
   "metadata": {},
   "outputs": [
    {
     "data": {
      "text/plain": [
       "2.092323232323232"
      ]
     },
     "execution_count": 331,
     "metadata": {},
     "output_type": "execute_result"
    }
   ],
   "source": [
    "rest_char[1][0] # this is the lambda - char. path. length"
   ]
  },
  {
   "cell_type": "code",
   "execution_count": 335,
   "id": "71575bee-e688-4dec-8f5f-012d7b2a7d32",
   "metadata": {},
   "outputs": [
    {
     "data": {
      "text/plain": [
       "0.5723434343434344"
      ]
     },
     "execution_count": 335,
     "metadata": {},
     "output_type": "execute_result"
    }
   ],
   "source": [
    "rest_char[1][1] # this is the global efficiency"
   ]
  },
  {
   "cell_type": "code",
   "execution_count": 333,
   "id": "f9f41d0d-1a42-42ed-b169-419448a2cd1e",
   "metadata": {},
   "outputs": [],
   "source": [
    "rest_e_glob = np.empty(40, dtype='float') \n",
    "one_e_glob = np.empty(40)\n",
    "two_e_glob = np.empty(40)\n",
    "for sub in range(subs.shape[0]):\n",
    "    rest_e_glob[sub] = rest_char[sub][1]\n",
    "    one_e_glob[sub] = one_char[sub][1]\n",
    "    two_e_glob[sub] = two_char[sub][1]"
   ]
  },
  {
   "cell_type": "code",
   "execution_count": 336,
   "id": "25857f5e-d3e8-4e94-a78d-cc59fefdcfa9",
   "metadata": {},
   "outputs": [
    {
     "data": {
      "text/plain": [
       "0.5723434343434344"
      ]
     },
     "execution_count": 336,
     "metadata": {},
     "output_type": "execute_result"
    }
   ],
   "source": [
    "rest_e_glob[1]"
   ]
  },
  {
   "cell_type": "markdown",
   "id": "c2964f02-560a-4eaf-bb3b-139ec997caa2",
   "metadata": {
    "jp-MarkdownHeadingCollapsed": true
   },
   "source": [
    "# efficiency - local (global was already computed in the char. path. length funciton)"
   ]
  },
  {
   "cell_type": "code",
   "execution_count": 256,
   "id": "5de3787d-a2d1-425a-a379-d9077fb87803",
   "metadata": {},
   "outputs": [],
   "source": [
    "rest_e_loc = np.empty((40,100), dtype='object') #output is Nx1 np.ndarray\n",
    "one_e_loc = np.empty((40,100), dtype='object')\n",
    "two_e_loc = np.empty((40,100), dtype='object')\n",
    "\n",
    "for sub in range(subs.shape[0]):\n",
    "    one_e_loc[sub] = bct.efficiency_bin(one_back_corr_bin[sub], local=True)\n",
    "    two_e_loc[sub] = bct.efficiency_bin(two_back_corr_bin[sub], local=True)\n",
    "    rest_e_loc[sub] = bct.efficiency_bin(rest_corr_bin[sub], local=True)"
   ]
  },
  {
   "cell_type": "code",
   "execution_count": 849,
   "id": "12df999f-8544-44ce-81af-3c3c415ee42c",
   "metadata": {},
   "outputs": [
    {
     "data": {
      "text/plain": [
       "(40, 100)"
      ]
     },
     "execution_count": 849,
     "metadata": {},
     "output_type": "execute_result"
    }
   ],
   "source": [
    "rest_e_loc.shape"
   ]
  },
  {
   "cell_type": "code",
   "execution_count": 850,
   "id": "b7efa1ab-a081-43d6-9d04-69a5bd405e49",
   "metadata": {},
   "outputs": [],
   "source": [
    "rest_e_loc_mean = np.mean(rest_e_loc, axis=0)\n",
    "one_e_loc_mean = np.mean(one_e_loc, axis=0)\n",
    "two_e_loc_mean = np.mean(two_e_loc, axis=0)"
   ]
  },
  {
   "cell_type": "code",
   "execution_count": 852,
   "id": "fb31c6fa-3fc0-4cb2-90c2-084d45364572",
   "metadata": {},
   "outputs": [],
   "source": [
    "regions_e_loc = regions\n",
    "regions_e_loc['one_avg_coef'] = one_e_loc_mean\n",
    "regions_e_loc['two_avg_coef'] = two_e_loc_mean\n",
    "regions_e_loc['rest_avg_coef'] = rest_e_loc_mean"
   ]
  },
  {
   "cell_type": "code",
   "execution_count": null,
   "id": "23328ef1-9e6a-4998-8303-2ad475c941c0",
   "metadata": {},
   "outputs": [],
   "source": [
    "regions_e_loc"
   ]
  },
  {
   "cell_type": "code",
   "execution_count": 854,
   "id": "9e589a86-718a-45ed-8f31-a9b42beea2e7",
   "metadata": {},
   "outputs": [],
   "source": [
    "regions_e_loc_sort = regions_e_loc.sort_values('rest_avg_coef')"
   ]
  },
  {
   "cell_type": "code",
   "execution_count": null,
   "id": "d8613543-a1ed-41ed-9181-b01556e9a1a9",
   "metadata": {},
   "outputs": [],
   "source": [
    "regions_e_loc_sort = regions_e_loc_sort.reset_index(drop=True)\n",
    "print(regions_coefs_sort.to_string())"
   ]
  },
  {
   "cell_type": "code",
   "execution_count": 865,
   "id": "ba5cf898-2a90-43b3-9922-edbbf079fb55",
   "metadata": {},
   "outputs": [
    {
     "data": {
      "text/plain": [
       "ROI Label                                    80\n",
       "ROI Name         7Networks_RH_Limbic_TempPole_1\n",
       "R                                            38\n",
       "A                                             0\n",
       "S                                           -38\n",
       "one_avg_coef                           0.393526\n",
       "two_avg_coef                           0.392869\n",
       "rest_avg_coef                           0.59951\n",
       "Name: 3, dtype: object"
      ]
     },
     "execution_count": 865,
     "metadata": {},
     "output_type": "execute_result"
    }
   ],
   "source": [
    "regions_e_loc_sort.iloc[3]"
   ]
  },
  {
   "cell_type": "code",
   "execution_count": 857,
   "id": "cd884495-d749-43be-967c-e1a8cd57cb28",
   "metadata": {},
   "outputs": [],
   "source": [
    "indexy = regions_e_loc_sort[regions_e_loc_sort['ROI Name'].str.contains('Default')].index.to_list()\n",
    "# indexy"
   ]
  },
  {
   "cell_type": "code",
   "execution_count": 860,
   "id": "a5d1e8d7-c2c3-43e4-ac75-d9e611dd5d89",
   "metadata": {},
   "outputs": [
    {
     "data": {
      "image/png": "[encoded data removed]",
      "text/plain": [
       "<Figure size 1500x500 with 1 Axes>"
      ]
     },
     "metadata": {},
     "output_type": "display_data"
    }
   ],
   "source": [
    "plt.figure(figsize=(15,5))\n",
    "plt.bar(regions_e_loc_sort.index, height=regions_e_loc_sort['one_avg_coef'], width=1.2)\n",
    "plt.bar(regions_e_loc_sort.index, height=regions_e_loc_sort['two_avg_coef'], alpha=0.5, width=1.2)#np.sort(two_avg_degree)\n",
    "plt.bar(regions_e_loc_sort.index, height=regions_e_loc_sort['rest_avg_coef'], alpha=0.5, width=1.2)#np.sort(rest_avg_degree)\n",
    "\n",
    "plt.legend(('1-back', '2-back', 'rest'))\n",
    "# for i in regions_degrees_sort['ROI Label']:\n",
    "#     if i in dmn_indexes:\n",
    "plt.plot(indexy, [0.1 for x in range(24)], 'bo', markersize=2)\n",
    "plt.title('Average local efficiency distribution')\n",
    "plt.xlabel('Node index')\n",
    "plt.ylabel('Average efficiency')\n",
    "plt.savefig('avg_local_efficiency')"
   ]
  },
  {
   "cell_type": "markdown",
   "id": "142784a6-aaaa-4a28-91cf-88e7ecd9aa00",
   "metadata": {},
   "source": [
    "# Louvain community - modularity\n",
    "* commented because louvain mod. changes a bit on every run"
   ]
  },
  {
   "cell_type": "markdown",
   "id": "1534a41a-93aa-444f-bd92-f295648b68ae",
   "metadata": {},
   "source": [
    "## Binary thresholded for 25% density"
   ]
  },
  {
   "cell_type": "code",
   "execution_count": 190,
   "id": "20a73f78-aa15-4eb0-b9c5-dc053b4c08de",
   "metadata": {},
   "outputs": [],
   "source": [
    "# rest_louvain = np.zeros((40, 100), dtype='int')\n",
    "# one_louvain = np.zeros((40, 100), dtype='int')\n",
    "# two_louvain = np.zeros((40, 100), dtype='int')\n",
    "\n",
    "# rest_louvain_q = np.zeros(40)\n",
    "# one_louvain_q = np.zeros(40)\n",
    "# two_louvain_q = np.zeros(40)\n",
    "\n",
    "# for sub in range(subs.shape[0]):\n",
    "    # one_louvain[sub], one_louvain_q[sub] = bct.community_louvain(one_back_corr_bin[sub])\n",
    "    # two_louvain[sub], two_louvain_q[sub] = bct.community_louvain(two_back_corr_bin[sub])\n",
    "    # rest_louvain[sub], rest_louvain_q[sub] = bct.community_louvain(rest_corr_bin[sub])"
   ]
  },
  {
   "cell_type": "code",
   "execution_count": 393,
   "id": "53a7e115-46b3-4114-91c2-9e580b086f06",
   "metadata": {},
   "outputs": [
    {
     "name": "stdout",
     "output_type": "stream",
     "text": [
      "0.20929778865803145 0.19761862506883526 0.29148354086141337\n"
     ]
    }
   ],
   "source": [
    "print(one_louvain_q[1],two_louvain_q[1],rest_louvain_q[1])"
   ]
  },
  {
   "cell_type": "code",
   "execution_count": 392,
   "id": "ff2e3354-ab8f-4dc4-8ae1-1b6ef31b2022",
   "metadata": {},
   "outputs": [
    {
     "data": {
      "text/plain": [
       "Text(0.5, 1.0, 'Modularity q-statistic')"
      ]
     },
     "execution_count": 392,
     "metadata": {},
     "output_type": "execute_result"
    },
    {
     "data": {
      "image/png": "[encoded data removed]",
      "text/plain": [
       "<Figure size 640x480 with 1 Axes>"
      ]
     },
     "metadata": {},
     "output_type": "display_data"
    }
   ],
   "source": [
    "data = [one_louvain_q, two_louvain_q, rest_louvain_q]\n",
    "labels = ['1-back', '2-back', 'rest']\n",
    "plt.boxplot(data, labels=labels, meanline=True);\n",
    "plt.title('Modularity q-statistic')"
   ]
  },
  {
   "cell_type": "markdown",
   "id": "9ebb365c-96bc-4ede-b2aa-5e183864945b",
   "metadata": {
    "jp-MarkdownHeadingCollapsed": true
   },
   "source": [
    "## Binary thresholded for 50% density"
   ]
  },
  {
   "cell_type": "code",
   "execution_count": 268,
   "id": "3636e90e-bab2-4125-8486-64357c20edd6",
   "metadata": {},
   "outputs": [],
   "source": [
    "rest_louvain_50 = np.zeros((40, 100), dtype='int')\n",
    "one_louvain_50 = np.zeros((40, 100), dtype='int')\n",
    "two_louvain_50 = np.zeros((40, 100), dtype='int')\n",
    "\n",
    "rest_louvain_q_50 = np.zeros(40)\n",
    "one_louvain_q_50 = np.zeros(40)\n",
    "two_louvain_q_50 = np.zeros(40)\n",
    "\n",
    "for sub in range(subs.shape[0]):\n",
    "    one_louvain_50[sub], one_louvain_q_50[sub] = bct.community_louvain(one_back_corr_bin_50[sub])\n",
    "    two_louvain_50[sub], two_louvain_q_50[sub] = bct.community_louvain(two_back_corr_bin_50[sub])\n",
    "    rest_louvain_50[sub], rest_louvain_q_50[sub] = bct.community_louvain(rest_corr_bin_50[sub])"
   ]
  },
  {
   "cell_type": "code",
   "execution_count": 269,
   "id": "0eb8fc9a-618c-48fc-b950-9bebd83897fc",
   "metadata": {},
   "outputs": [
    {
     "name": "stdout",
     "output_type": "stream",
     "text": [
      "0.11123493521069278 0.09177390062238545 0.21023977145189268\n"
     ]
    }
   ],
   "source": [
    "print(one_louvain_q_50[1],two_louvain_q_50[1],rest_louvain_q_50[1])"
   ]
  },
  {
   "cell_type": "code",
   "execution_count": 270,
   "id": "92e3d20e-cf7b-42ad-8ff6-8a17f99d97e7",
   "metadata": {},
   "outputs": [
    {
     "data": {
      "image/png": "[encoded data removed]",
      "text/plain": [
       "<Figure size 640x480 with 1 Axes>"
      ]
     },
     "metadata": {},
     "output_type": "display_data"
    }
   ],
   "source": [
    "data = [one_louvain_q_50, two_louvain_q_50, rest_louvain_q_50]\n",
    "labels = ['1-back', '2-back', 'rest']\n",
    "plt.boxplot(data, labels=labels, meanline=True);"
   ]
  },
  {
   "cell_type": "code",
   "execution_count": 277,
   "id": "d696a0c5-9491-4652-835a-ccdf348ed4ca",
   "metadata": {},
   "outputs": [
    {
     "name": "stdout",
     "output_type": "stream",
     "text": [
      "0.13715642893582286 0.14148729925517806 0.17149738189980615\n"
     ]
    }
   ],
   "source": [
    "mean_q_one_50 = np.mean(one_louvain_q_50)\n",
    "mean_q_two_50 = np.mean(two_louvain_q_50)\n",
    "mean_q_rest_50 = np.mean(rest_louvain_q_50)\n",
    "print(mean_q_one_50, mean_q_two_50, mean_q_rest_50)"
   ]
  },
  {
   "cell_type": "markdown",
   "id": "094494ec-053f-4c63-86ad-0bca2ddb55d2",
   "metadata": {
    "jp-MarkdownHeadingCollapsed": true
   },
   "source": [
    "## Mean modularity"
   ]
  },
  {
   "cell_type": "code",
   "execution_count": 271,
   "id": "f966c312-b5f7-4b3a-9ac3-5801cbc6786e",
   "metadata": {},
   "outputs": [
    {
     "data": {
      "text/plain": [
       "(40,)"
      ]
     },
     "execution_count": 271,
     "metadata": {},
     "output_type": "execute_result"
    }
   ],
   "source": [
    "one_louvain_q.shape"
   ]
  },
  {
   "cell_type": "code",
   "execution_count": 273,
   "id": "bbb9179a-8591-4bc5-b509-e0fb66b7acfd",
   "metadata": {},
   "outputs": [
    {
     "name": "stdout",
     "output_type": "stream",
     "text": [
      "0.26370958454800986 0.269004878171317 0.2989637433741951\n"
     ]
    }
   ],
   "source": [
    "mean_q_one = np.mean(one_louvain_q)\n",
    "mean_q_two = np.mean(two_louvain_q)\n",
    "mean_q_rest = np.mean(rest_louvain_q)\n",
    "print(mean_q_one, mean_q_two, mean_q_rest)"
   ]
  },
  {
   "cell_type": "markdown",
   "id": "1b5dff7c-520d-4e44-80a8-6fb95fc066e8",
   "metadata": {
    "jp-MarkdownHeadingCollapsed": true
   },
   "source": [
    "## Checking modularity in only thresholded (not binarized)"
   ]
  },
  {
   "cell_type": "code",
   "execution_count": 275,
   "id": "171651d5-2cf4-4889-b7d2-edb2a224a85e",
   "metadata": {},
   "outputs": [],
   "source": [
    "rest_louvain_thr = np.zeros((40, 100), dtype='int')\n",
    "one_louvain_thr = np.zeros((40, 100), dtype='int')\n",
    "two_louvain_thr = np.zeros((40, 100), dtype='int')\n",
    "\n",
    "rest_louvain_q_thr = np.zeros(40)\n",
    "one_louvain_q_thr = np.zeros(40)\n",
    "two_louvain_q_thr = np.zeros(40)\n",
    "\n",
    "for sub in range(subs.shape[0]):\n",
    "    one_louvain_thr[sub], one_louvain_q_thr[sub] = bct.community_louvain(one_back_corr_thr[sub])\n",
    "    two_louvain_thr[sub], two_louvain_q_thr[sub] = bct.community_louvain(two_back_corr_thr[sub])\n",
    "    rest_louvain_thr[sub], rest_louvain_q_thr[sub] = bct.community_louvain(rest_corr_thr[sub])"
   ]
  },
  {
   "cell_type": "code",
   "execution_count": 276,
   "id": "01702f06-aa4f-4a34-8708-c27dece68e7d",
   "metadata": {},
   "outputs": [
    {
     "name": "stdout",
     "output_type": "stream",
     "text": [
      "0.28599668107809645 0.2900423146808907 0.3281728683408912\n"
     ]
    }
   ],
   "source": [
    "mean_q_one_thr = np.mean(one_louvain_q_thr)\n",
    "mean_q_two_thr = np.mean(two_louvain_q_thr)\n",
    "mean_q_rest_thr = np.mean(rest_louvain_q_thr)\n",
    "print(mean_q_one_thr, mean_q_two_thr, mean_q_rest_thr)"
   ]
  },
  {
   "cell_type": "markdown",
   "id": "aec6e12b-fec3-42ae-ac0d-01a4c2f691ba",
   "metadata": {
    "jp-MarkdownHeadingCollapsed": true
   },
   "source": [
    "## standard modularity (sth doesn't work in the function)"
   ]
  },
  {
   "cell_type": "code",
   "execution_count": null,
   "id": "a613b723-4c52-4371-a36f-d77099cf1417",
   "metadata": {},
   "outputs": [],
   "source": [
    "one_mod = np.empty(100, dtype='object')\n",
    "two_mod = np.empty(100, dtype='object')\n",
    "rest_mod = np.empty(100, dtype='object')\n",
    "\n",
    "for sub in range(subs.shape[0]):\n",
    "    one_mod[sub] = bct.modularity_und(one_back_corr_bin[sub])\n",
    "    two_mod[sub] = bct.modularity_und(two_back_corr_bin[sub])\n",
    "    rest_mod[sub] = bct.modularity_und(rest_corr_bin[sub])"
   ]
  },
  {
   "cell_type": "code",
   "execution_count": 382,
   "id": "fe9172dc-63ea-4e8c-997c-3d67f22c3533",
   "metadata": {},
   "outputs": [
    {
     "data": {
      "text/plain": [
       "(100, 100)"
      ]
     },
     "execution_count": 382,
     "metadata": {},
     "output_type": "execute_result"
    }
   ],
   "source": [
    "rest_corr_bin[0].shape"
   ]
  },
  {
   "cell_type": "code",
   "execution_count": null,
   "id": "319dc4b8-e9cc-4f3c-b9ed-f8076ee8f29a",
   "metadata": {},
   "outputs": [],
   "source": [
    "rest_mod = np.empty((40,100), dtype='object')\n",
    "one_mod = np.empty((40,100), dtype='object')\n",
    "two_mod = np.empty((40,100), dtype='object')\n",
    "\n",
    "rest_mod_q = np.empty(40, dtype='object')\n",
    "one_mod_q = np.empty(40, dtype='object')\n",
    "two_mod_q = np.empty(40, dtype='object')\n",
    "\n",
    "#rest_mod[0] = bct.modularity_und(rest_corr_bin[0])\n",
    "\n",
    "# rest_mod_q = [x for x in range(100)]#np.zeros((40,1), dtype='float')\n",
    "# one_mod_q = [x for x in range(100)]#np.zeros((40,1), dtype='float')\n",
    "# two_mod_q = [x for x in range(100)]#np.zeros((40,1), dtype='float')\n",
    "\n",
    "for sub in range(subs.shape[0]):\n",
    "    print(sub)\n",
    "    one_mod[sub], one_mod_q[sub] = bct.modularity_und(one_back_corr_bin[sub])\n",
    "    two_mod[sub] = bct.modularity_und(two_back_corr_bin[sub])\n",
    "    rest_mod[sub] = bct.modularity_und(rest_corr_bin[sub])"
   ]
  },
  {
   "cell_type": "code",
   "execution_count": 157,
   "id": "593d59f4-179d-4ffd-8e76-4e04d516757d",
   "metadata": {},
   "outputs": [
    {
     "name": "stdout",
     "output_type": "stream",
     "text": [
      "0.20955583945130113 0.18803714365501709 0.3046692513068918\n"
     ]
    }
   ],
   "source": [
    "print(one_mod_q[1], two_mod_q[1], rest_mod_q[1])"
   ]
  },
  {
   "cell_type": "markdown",
   "id": "be3e9688-c57c-4e7c-9488-130ebd9fac26",
   "metadata": {
    "jp-MarkdownHeadingCollapsed": true
   },
   "source": [
    "# makerandCIJ_und - for generating ranodm network - for comapring small-worldenss na przykład\n",
    "* randmio_und may be better/easier to use"
   ]
  },
  {
   "cell_type": "markdown",
   "id": "8901a0c2-5baa-44fd-8b47-de85de420fd7",
   "metadata": {},
   "source": [
    "# Visualization in BTC !!!"
   ]
  },
  {
   "cell_type": "markdown",
   "id": "a4f016e3-92d0-499c-a7fd-5d3042338f4a",
   "metadata": {},
   "source": [
    "## reoreder_mat\n",
    "## reorder mod "
   ]
  },
  {
   "cell_type": "markdown",
   "id": "9f1e2e95-fdaf-472a-b0de-be259a084a30",
   "metadata": {},
   "source": [
    "# statistical tests "
   ]
  },
  {
   "cell_type": "markdown",
   "id": "7b39c329-ccb8-42e3-9d2f-aedc3f2707e9",
   "metadata": {},
   "source": [
    "## testing assumptions for ANOVA"
   ]
  },
  {
   "cell_type": "code",
   "execution_count": 308,
   "id": "ee3d97b7-15dc-4c7e-a2bb-f64f8af65582",
   "metadata": {},
   "outputs": [],
   "source": [
    "def check_before_anova(rest, one_back, two_back):\n",
    "    #test shapiro-wilka na normalność rozkładu\n",
    "    results_shapiro_rest = scipy.stats.shapiro(rest)\n",
    "    results_shapiro_one_back = scipy.stats.shapiro(one_back)\n",
    "    results_shapiro_two_back = scipy.stats.shapiro(two_back)\n",
    "    \n",
    "\n",
    "    #test levena na równość wariancji\n",
    "    results_levene = scipy.stats.levene(rest, one_back, two_back)\n",
    "    \n",
    "    return results_shapiro_rest, results_shapiro_one_back, results_shapiro_two_back, results_levene\n",
    "    \n",
    "    "
   ]
  },
  {
   "cell_type": "markdown",
   "id": "67fa74f0-73b1-4dec-9612-539186c00fd6",
   "metadata": {},
   "source": [
    "## Modularity\n",
    "- Tested with one way repeated measures ANOVA and post-hoc with Tukey's HSD\n",
    "- ANOVA: F = 6.44, p = 0.002\n",
    "- Tukey's HSD: Modularity is significantly different comparing 1-back and 2-back against rest, but 1-back and 2-back do not difer significantly. (F1(rest vs 1-back)=0.035, p1 = 0.003; F2(rest vs 2-back)=0.030, p2=0.015; F3(1-back vs 2-back)=0.05, p3 = 0.872)"
   ]
  },
  {
   "cell_type": "code",
   "execution_count": 337,
   "id": "b58ac040-2bf9-40cf-a613-a24012228a9d",
   "metadata": {},
   "outputs": [],
   "source": [
    "check_mod = check_before_anova(rest_louvain_q, one_louvain_q, two_louvain_q)"
   ]
  },
  {
   "cell_type": "code",
   "execution_count": 338,
   "id": "c46774c0-754b-4981-8d91-4d8a01126ee5",
   "metadata": {},
   "outputs": [
    {
     "data": {
      "text/plain": [
       "(ShapiroResult(statistic=0.9788642525672913, pvalue=0.6474137902259827),\n",
       " ShapiroResult(statistic=0.9730982184410095, pvalue=0.4485621154308319),\n",
       " ShapiroResult(statistic=0.9744827747344971, pvalue=0.49277928471565247),\n",
       " LeveneResult(statistic=0.4671708288933817, pvalue=0.6279370676336209))"
      ]
     },
     "execution_count": 338,
     "metadata": {},
     "output_type": "execute_result"
    }
   ],
   "source": [
    "check_mod"
   ]
  },
  {
   "cell_type": "markdown",
   "id": "0c4f9f50-8a3e-4337-bffe-71a0fef7d711",
   "metadata": {},
   "source": [
    "### One-way within-subjects (repeated measures) ANOVA"
   ]
  },
  {
   "cell_type": "code",
   "execution_count": 314,
   "id": "bb64cc52-5242-4f2d-bb76-00789b46d295",
   "metadata": {},
   "outputs": [],
   "source": [
    "mod_anova = scipy.stats.f_oneway(rest_louvain_q, one_louvain_q, two_louvain_q)\n",
    "mod_tukey = scipy.stats.tukey_hsd(rest_louvain_q, one_louvain_q, two_louvain_q)"
   ]
  },
  {
   "cell_type": "code",
   "execution_count": 315,
   "id": "9b61930d-9896-482e-8642-d9cdfafbfa36",
   "metadata": {},
   "outputs": [
    {
     "name": "stdout",
     "output_type": "stream",
     "text": [
      "F_onewayResult(statistic=6.438526083452397, pvalue=0.0022244680691706634) Tukey's HSD Pairwise Group Comparisons (95.0% Confidence Interval)\n",
      "Comparison  Statistic  p-value  Lower CI  Upper CI\n",
      " (0 - 1)      0.035     0.003     0.010     0.060\n",
      " (0 - 2)      0.030     0.015     0.005     0.055\n",
      " (1 - 0)     -0.035     0.003    -0.060    -0.010\n",
      " (1 - 2)     -0.005     0.872    -0.030     0.020\n",
      " (2 - 0)     -0.030     0.015    -0.055    -0.005\n",
      " (2 - 1)      0.005     0.872    -0.020     0.030\n",
      "\n"
     ]
    }
   ],
   "source": [
    "print(mod_anova, mod_tukey)"
   ]
  },
  {
   "cell_type": "markdown",
   "id": "40223a83-293d-43cf-851d-40d23004ba0e",
   "metadata": {
    "jp-MarkdownHeadingCollapsed": true
   },
   "source": [
    "## Global efficiency\n",
    "\n",
    "- does not have normal distribution\n",
    "- medians do not significantly differ, meaning that there is possibility that global efficiencies for every condition are similiar."
   ]
  },
  {
   "cell_type": "code",
   "execution_count": 339,
   "id": "4aea7238-7c81-4654-aa77-dab3e09ac342",
   "metadata": {},
   "outputs": [
    {
     "data": {
      "text/plain": [
       "(ShapiroResult(statistic=0.8664836883544922, pvalue=0.00023204635363072157),\n",
       " ShapiroResult(statistic=0.9058431386947632, pvalue=0.0028402989264577627),\n",
       " ShapiroResult(statistic=0.87566077709198, pvalue=0.0004028760304208845),\n",
       " LeveneResult(statistic=0.8255357186324832, pvalue=0.44053513320833626))"
      ]
     },
     "execution_count": 339,
     "metadata": {},
     "output_type": "execute_result"
    }
   ],
   "source": [
    "check_e_glob = check_before_anova(rest_e_glob, one_e_glob, two_e_glob)\n",
    "check_e_glob"
   ]
  },
  {
   "cell_type": "code",
   "execution_count": 340,
   "id": "7ed143ee-a264-4340-990a-f358d87d539e",
   "metadata": {},
   "outputs": [
    {
     "data": {
      "text/plain": [
       "(array([ 1.,  0.,  1.,  1.,  1.,  3.,  5.,  8., 11.,  9.]),\n",
       " array([0.49861953, 0.50902525, 0.51943098, 0.5298367 , 0.54024242,\n",
       "        0.55064815, 0.56105387, 0.5714596 , 0.58186532, 0.59227104,\n",
       "        0.60267677]),\n",
       " <BarContainer object of 10 artists>)"
      ]
     },
     "execution_count": 340,
     "metadata": {},
     "output_type": "execute_result"
    },
    {
     "data": {
      "image/png": "[encoded data removed]",
      "text/plain": [
       "<Figure size 640x480 with 1 Axes>"
      ]
     },
     "metadata": {},
     "output_type": "display_data"
    }
   ],
   "source": [
    "plt.hist(rest_e_glob)"
   ]
  },
  {
   "cell_type": "markdown",
   "id": "40e431a3-a7f9-4caa-8136-baabdc877110",
   "metadata": {},
   "source": [
    "#### Testign kruskal test for media, because distributions are not normal"
   ]
  },
  {
   "cell_type": "code",
   "execution_count": 342,
   "id": "d850967a-ef67-4ff9-8ec5-e177cfabf44d",
   "metadata": {},
   "outputs": [
    {
     "data": {
      "text/plain": [
       "KruskalResult(statistic=3.8038561839578815, pvalue=0.1492805150025818)"
      ]
     },
     "execution_count": 342,
     "metadata": {},
     "output_type": "execute_result"
    }
   ],
   "source": [
    "e_global_kruskal = scipy.stats.kruskal(rest_e_glob, one_e_glob, two_e_glob)\n",
    "e_global_kruskal"
   ]
  }
 ],
 "metadata": {
  "kernelspec": {
   "display_name": "Python 3 (ipykernel)",
   "language": "python",
   "name": "python3"
  },
  "language_info": {
   "codemirror_mode": {
    "name": "ipython",
    "version": 3
   },
   "file_extension": ".py",
   "mimetype": "text/x-python",
   "name": "python",
   "nbconvert_exporter": "python",
   "pygments_lexer": "ipython3",
   "version": "3.11.5"
  }
 },
 "nbformat": 4,
 "nbformat_minor": 5
}
